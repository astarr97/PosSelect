{
 "cells": [
  {
   "cell_type": "code",
   "execution_count": null,
   "id": "17270906",
   "metadata": {},
   "outputs": [],
   "source": [
    "from PosSelect_Functions_Old import *\n",
    "import seaborn as sns\n",
    "import matplotlib.pyplot as plt\n",
    "from scipy.stats import gaussian_kde\n",
    "import pandas as pd\n",
    "import numpy as np\n",
    "import copy\n",
    "import seaborn as sns\n",
    "from scipy.stats import mannwhitneyu as mwu\n",
    "from scipy.stats import ttest_ind\n",
    "from scipy.stats import ttest_rel\n",
    "from statsmodels.stats.multitest import fdrcorrection\n",
    "from scipy.stats import wilcoxon\n",
    "from scipy.optimize import curve_fit\n",
    "from scipy.stats import fisher_exact\n",
    "\n",
    "hfont = {'fontname':'Arial'}\n",
    "plt.rcParams[\"font.family\"] = \"Arial\"\n",
    "\n",
    "#Code borrowed heavily from here: https://stackoverflow.com/questions/62375034/find-non-overlapping-area-between-two-kde-plots\n",
    "plt.rcParams.update(\n",
    "    {\"text.usetex\": False}\n",
    ")\n",
    "\n",
    "#Define a logarithmic function to fit to the data\n",
    "def plot_stuff(df, title, xlabel, ylabel):\n",
    "    def func(x, a, c, d):\n",
    "        return a + d*np.log(x + c)\n",
    "\n",
    "    #Fit said function\n",
    "    popt, pcov = curve_fit(func, xdata=df[\"AF bin\"], ydata=df[\"Alpha\"], maxfev = 100000)\n",
    "    sns.scatterplot(x=df[\"AF bin\"], y=df[\"Alpha\"])\n",
    "    xx = np.linspace(0.1, 1, 100)\n",
    "    yy = func(xx, *popt)\n",
    "    plt.title(title, size = 18)\n",
    "    plt.xlabel(xlabel, size = 15)\n",
    "    plt.ylabel(ylabel, size = 15)\n",
    "    plt.plot(xx, yy)\n"
   ]
  },
  {
   "cell_type": "code",
   "execution_count": null,
   "id": "b286cd23",
   "metadata": {},
   "outputs": [],
   "source": [
    "#Read in the data and subset to Pteropus_alecto derived sites\n",
    "v = pd.read_csv(\"Fixed_Pteropus_alecto.bed\", sep = \"\\t\", header = None)\n",
    "v[\"Position\"] = v[0] + \":\" + v[2].astype(str)\n",
    "v.columns = [0, 1, 2, \"Alecto\", \"Vampyrus\", \"Rousettus\", \"Helvum\", \"PhyloP447\", \"NearestGene\", \"NearestDist\", \"SpecSup447\", \"Derived\", \"Position\"]\n",
    "v = v.drop_duplicates(\"Position\")\n",
    "v = v[[\"Position\", \"Alecto\", \"Vampyrus\", \"Rousettus\", \"Helvum\", \"PhyloP447\", \"NearestGene\", \"NearestDist\", \"SpecSup447\", \"Derived\"]].copy()\n",
    "\n",
    "v = v[v[\"PhyloP447\"] != \".\"]\n",
    "v = v[v[\"SpecSup447\"] != \".\"]\n",
    "v = v[v[\"NearestGene\"] != \".\"]\n",
    "\n",
    "v[\"PhyloP447\"] = v[\"PhyloP447\"].astype(float)\n",
    "v[\"SpecSup447\"] = v[\"SpecSup447\"].astype(float)\n",
    "\n",
    "vv = pd.read_csv(\"Poly_Pteropus_alecto.bed\", sep = \"\\t\", header = None)\n",
    "\n",
    "vv[\"Position\"] = vv[0] + \":\" + vv[2].astype(str)\n",
    "vv.columns = [0, 1, 2, \"MajorAllele\", \"MinorAllele\", \"MAFMaxAcrossAncestry\", \"AlectoReference\", \"Vampyrus\", \"Rousettus\", \"Helvum\", \"PhyloP447\", \"NearestGene\", \"NearestDist\", \"SpecSup447\", \"DerivedAllele\", \"UnfoldedMAF\", \"Position\"]\n",
    "vv = vv.drop_duplicates(\"Position\")\n",
    "vv = vv[[\"Position\", \"MajorAllele\", \"MinorAllele\", \"MAFMaxAcrossAncestry\", \"AlectoReference\", \"Vampyrus\", \"Rousettus\", \"Helvum\", \"PhyloP447\", \"NearestGene\", \"NearestDist\", \"SpecSup447\", \"DerivedAllele\", \"UnfoldedMAF\"]].copy()\n",
    "\n",
    "vv = vv[vv[\"PhyloP447\"] != \".\"]\n",
    "vv = vv[vv[\"SpecSup447\"] != \".\"]\n",
    "vv = vv[vv[\"NearestGene\"] != \".\"]\n",
    "\n",
    "vv[\"PhyloP447\"] = vv[\"PhyloP447\"].astype(float)\n",
    "vv[\"SpecSup447\"] = vv[\"SpecSup447\"].astype(float)\n",
    "\n",
    "v = v[v[\"Derived\"].isin([\"AlectoDerived\"])]\n",
    "vv = vv[~vv[\"DerivedAllele\"].isin([\"Amb\"])]\n",
    "vv = vv[~vv[\"UnfoldedMAF\"].isin([\"Amb\"])]\n",
    "vv[\"UnfoldedMAF\"] = vv[\"UnfoldedMAF\"].astype(float)\n",
    "\n",
    "v.index = v[\"Position\"]\n",
    "vv.index = vv[\"Position\"]\n",
    "\n",
    "v = v[~v[\"Position\"].isin(vv[\"Position\"])]\n",
    "\n",
    "vv = vv[(vv[\"UnfoldedMAF\"] < 0.9) & (vv[\"UnfoldedMAF\"] > 0.1)]"
   ]
  },
  {
   "cell_type": "code",
   "execution_count": null,
   "id": "9815297d",
   "metadata": {},
   "outputs": [],
   "source": [
    "#Remove HLA locus\n",
    "toss = []\n",
    "for i in np.unique(vv[\"NearestGene\"]):\n",
    "    if \"HLA-\" in i:\n",
    "        toss.append(i)\n",
    "        \n",
    "for i in np.unique(v[\"NearestGene\"]):\n",
    "    if \"HLA-\" in i:\n",
    "        toss.append(i)\n",
    "\n",
    "v = v[~v[\"NearestGene\"].isin(toss)]\n",
    "vv = vv[~vv[\"NearestGene\"].isin(toss)]"
   ]
  },
  {
   "cell_type": "code",
   "execution_count": null,
   "id": "1441b0c2",
   "metadata": {},
   "outputs": [],
   "source": [
    "#Specifically chosen because of it is number of bats + 8\n",
    "vv = vv[vv[\"SpecSup447\"] > 38]\n",
    "v = v[v[\"SpecSup447\"] > 38]"
   ]
  },
  {
   "cell_type": "code",
   "execution_count": null,
   "id": "0a27ccc2",
   "metadata": {},
   "outputs": [],
   "source": [
    "#For fair comparison with bat, only use 1-1 orthos and toss all nonsyn/syn sites\n",
    "orthos = pd.read_csv(\"Alecto_Musculus_Homo_Orthos.txt\", sep = ',')\n",
    "orthos = orthos.dropna()\n",
    "orthos = orthos[(orthos[\"Mouse homology type\"] == \"ortholog_one2one\") & (orthos[\"Megabat homology type\"] == \"ortholog_one2one\")]\n",
    "orthos = orthos.drop_duplicates(\"Gene stable ID\")\n",
    "\n",
    "orth2 = pd.read_csv(\"Orthologs_HumMouseMarm.txt\", sep = \"\\t\")\n",
    "orth2 = orth2[[\"Gene stable ID\", \"Gene name\"]]\n",
    "orthos = orthos.set_index(\"Gene stable ID\").join(orth2.set_index(\"Gene stable ID\"))\n",
    "\n",
    "v_use = v[v[\"NearestGene\"].isin(orthos[\"Gene name\"])]\n",
    "vv_use = vv[vv[\"NearestGene\"].isin(orthos[\"Gene name\"])]\n",
    "\n",
    "v_use = v_use[v_use[\"NearestDist\"] != 0]\n",
    "vv_use = vv_use[vv_use[\"NearestDist\"] != 0]\n"
   ]
  },
  {
   "cell_type": "code",
   "execution_count": null,
   "id": "b178e88f",
   "metadata": {},
   "outputs": [],
   "source": [
    "alpha, to_plot = asymptotic_unfold_cutoff(v_use, vv_use, start = 0.1, dn_cut = 0.0001, to_plot_curve = False, cuttt = 0.95)\n",
    "plot_stuff(to_plot, title = \"Asymptotic for black flying fox non-coding sites\", ylabel = \"$\\\\alpha_{Cons}$\", xlabel = \"Derived allele frequency bin\")\n",
    "print(alpha)"
   ]
  },
  {
   "cell_type": "code",
   "execution_count": null,
   "id": "45b145a4",
   "metadata": {},
   "outputs": [],
   "source": [
    "vv_use2 = vv_use[vv_use[\"UnfoldedMAF\"] > 0.5]\n",
    "vvv = prepare_alpha(v_use, vv_use2)\n",
    "yvals2 = [np.float64(j) for j in list(vv_use2[\"PhyloP447\"])]\n",
    "yvals2.sort()\n",
    "cuttt = 0.95\n",
    "cutoff = yvals2[int(floor((len(yvals2)*cuttt)))]\n",
    "alpha = compute_alpha_cutoff(vvv, cutoff = cutoff, plot = True, title = \"Excess of fixed conserved substitutions in black flying fox\")\n",
    "print(alpha)"
   ]
  },
  {
   "cell_type": "code",
   "execution_count": null,
   "id": "bc6c8db2",
   "metadata": {},
   "outputs": [],
   "source": [
    "vv_use2 = vv_use[vv_use[\"UnfoldedMAF\"] > 0.5]\n",
    "vvv = prepare_alpha(v_use, vv_use2)\n",
    "yvals2 = [np.float64(j) for j in list(vv_use2[\"PhyloP447\"])]\n",
    "yvals2.sort()\n",
    "cuttt = 0.95\n",
    "cutoff = yvals2[int(floor((len(yvals2)*cuttt)))]\n",
    "alpha = compute_alpha_cutoff(vvv, cutoff = cutoff, plot = True, title = \"Excess of fixed conserved substitutions in black flying fox\", window = [3, 12])\n",
    "print(alpha)"
   ]
  },
  {
   "cell_type": "code",
   "execution_count": null,
   "id": "3808ccb4",
   "metadata": {},
   "outputs": [],
   "source": [
    "plot_stuff(to_plot, title = \"Asymptotic for black flying fox non-coding sites\", ylabel = \"$\\\\alpha_{Cons}$\", xlabel = \"Derived allele frequency bin\")\n",
    "print(alpha)"
   ]
  }
 ],
 "metadata": {
  "kernelspec": {
   "display_name": "Python [conda env:base] *",
   "language": "python",
   "name": "conda-base-py"
  },
  "language_info": {
   "codemirror_mode": {
    "name": "ipython",
    "version": 3
   },
   "file_extension": ".py",
   "mimetype": "text/x-python",
   "name": "python",
   "nbconvert_exporter": "python",
   "pygments_lexer": "ipython3",
   "version": "3.13.5"
  }
 },
 "nbformat": 4,
 "nbformat_minor": 5
}
