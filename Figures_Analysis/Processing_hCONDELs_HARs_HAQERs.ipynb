{
 "cells": [
  {
   "cell_type": "code",
   "execution_count": 2,
   "id": "cab8ddf2",
   "metadata": {},
   "outputs": [
    {
     "name": "stderr",
     "output_type": "stream",
     "text": [
      "C:\\Users\\astar\\anaconda3\\Lib\\site-packages\\pandas\\core\\arrays\\masked.py:60: UserWarning: Pandas requires version '1.3.6' or newer of 'bottleneck' (version '1.3.5' currently installed).\n",
      "  from pandas.core import (\n"
     ]
    }
   ],
   "source": [
    "import pandas as pd\n",
    "import numpy as np\n"
   ]
  },
  {
   "cell_type": "code",
   "execution_count": 3,
   "id": "9a9a55f1",
   "metadata": {},
   "outputs": [],
   "source": [
    "v = pd.read_csv(\"hCONDELs.csv\")"
   ]
  },
  {
   "cell_type": "code",
   "execution_count": 4,
   "id": "4614c8c2",
   "metadata": {},
   "outputs": [],
   "source": [
    "v = v[v[\"exon\"] == 0]\n",
    "v = v[v[\"UTR_5\"] == 0]\n",
    "v = v[v[\"UTR_3\"] == 0]\n",
    "v25 = v[[\"hg38_del_chr\", \"hg38_del_start_pos\", \"hg38_del_end_pos\", \"hCONDEL_ID\"]].copy()\n",
    "v25.columns = [0, 1, 2, 3]\n",
    "v25[1] = v25[1] - 500\n",
    "v25[2] = v25[2] + 500\n",
    "v25.to_csv(\"hCONDELs_1kbWindow.bed\", sep = \"\\t\", header = None, index = False)"
   ]
  },
  {
   "cell_type": "code",
   "execution_count": 5,
   "id": "071bb206",
   "metadata": {},
   "outputs": [],
   "source": [
    "v = v[v[\"exon\"] == 0]\n",
    "v = v[v[\"UTR_5\"] == 0]\n",
    "v = v[v[\"UTR_3\"] == 0]\n",
    "v25 = v[[\"hg38_del_chr\", \"hg38_del_start_pos\", \"hg38_del_end_pos\", \"hCONDEL_ID\"]].copy()\n",
    "v25.columns = [0, 1, 2, 3]\n",
    "v25[1] = v25[1] - 2500\n",
    "v25[2] = v25[2] + 2500\n",
    "v25.to_csv(\"hCONDELs_5kbWindow.bed\", sep = \"\\t\", header = None, index = False)"
   ]
  },
  {
   "cell_type": "code",
   "execution_count": 6,
   "id": "ea7bdf7b",
   "metadata": {},
   "outputs": [],
   "source": [
    "v = v[v[\"exon\"] == 0]\n",
    "v = v[v[\"UTR_5\"] == 0]\n",
    "v = v[v[\"UTR_3\"] == 0]\n",
    "v25 = v[[\"hg38_del_chr\", \"hg38_del_start_pos\", \"hg38_del_end_pos\", \"hCONDEL_ID\"]].copy()\n",
    "v25.columns = [0, 1, 2, 3]\n",
    "v25[1] = v25[1] - 5000\n",
    "v25[2] = v25[2] + 5000\n",
    "v25.to_csv(\"hCONDELs_10kbWindow.bed\", sep = \"\\t\", header = None, index = False)"
   ]
  },
  {
   "cell_type": "code",
   "execution_count": 8,
   "id": "04d2ebff",
   "metadata": {},
   "outputs": [],
   "source": [
    "v = v[v[\"exon\"] == 0]\n",
    "v = v[v[\"UTR_5\"] == 0]\n",
    "v = v[v[\"UTR_3\"] == 0]\n",
    "v25 = v[[\"hg38_del_chr\", \"hg38_del_start_pos\", \"hg38_del_end_pos\", \"hCONDEL_ID\"]].copy()\n",
    "v25.columns = [0, 1, 2, 3]\n",
    "out = []\n",
    "for index, row in v25.iterrows():\n",
    "    out.append([row[0], row[1] - 5000, row[1] - 2500])\n",
    "    out.append([row[0], row[1] + 2500, row[1] + 5000])\n",
    "df = pd.DataFrame(out)\n",
    "df.to_csv(\"hCONDELs_5kbWindow_5kbGap.bed\", sep= \"\\t\", header = None, index = False)"
   ]
  },
  {
   "cell_type": "code",
   "execution_count": 9,
   "id": "f7dc2c4a",
   "metadata": {},
   "outputs": [],
   "source": [
    "v = v[v[\"exon\"] == 0]\n",
    "v = v[v[\"UTR_5\"] == 0]\n",
    "v = v[v[\"UTR_3\"] == 0]\n",
    "v25 = v[[\"hg38_del_chr\", \"hg38_del_start_pos\", \"hg38_del_end_pos\", \"hCONDEL_ID\"]].copy()\n",
    "v25.columns = [0, 1, 2, 3]\n",
    "out = []\n",
    "for index, row in v25.iterrows():\n",
    "    out.append([row[0], row[1] - 7500, row[1] - 5000])\n",
    "    out.append([row[0], row[1] + 5000, row[1] + 7500])\n",
    "df = pd.DataFrame(out)\n",
    "df.to_csv(\"hCONDELs_5kbWindow_10kbGap.bed\", sep= \"\\t\", header = None, index = False)"
   ]
  },
  {
   "cell_type": "code",
   "execution_count": 10,
   "id": "88113f4b",
   "metadata": {},
   "outputs": [],
   "source": [
    "v = pd.read_csv(\"haqer.hg38.bed\", sep = \"\\t\", header = None)\n",
    "out = []\n",
    "for index, row in v.iterrows():\n",
    "    out.append([row[0], row[1] - 2500, row[1]])\n",
    "    out.append([row[0], row[2], row[2] + 2500])\n",
    "df = pd.DataFrame(out)\n",
    "df.to_csv(\"HAQERs_5kbWindow_NoGap.bed\", sep = \"\\t\", header = None, index = False)"
   ]
  },
  {
   "cell_type": "code",
   "execution_count": 11,
   "id": "dfef2945",
   "metadata": {},
   "outputs": [],
   "source": [
    "v = pd.read_csv(\"haqer.hg38.bed\", sep = \"\\t\", header = None)\n",
    "out = []\n",
    "for index, row in v.iterrows():\n",
    "    out.append([row[0], row[1] - 5000, row[1] - 2500])\n",
    "    out.append([row[0], row[2] + 2500, row[2] + 5000])\n",
    "df = pd.DataFrame(out)\n",
    "df.to_csv(\"HAQERs_5kbWindow_5kbGap.bed\", sep = \"\\t\", header = None, index = False)"
   ]
  },
  {
   "cell_type": "code",
   "execution_count": 12,
   "id": "9c2cf92c",
   "metadata": {},
   "outputs": [],
   "source": [
    "v = pd.read_csv(\"HARs_Walsh_2021.csv\")\n",
    "v = v[[\"chr\", \"start\", \"stop\", \"HAR_ID\"]]\n",
    "v.columns = [0, 1, 2, 3]\n",
    "v.to_csv(\"HARs_Walsh_2021.bed\", sep = \"\\t\", header = None, index = False)"
   ]
  },
  {
   "cell_type": "code",
   "execution_count": 13,
   "id": "1d0476e2",
   "metadata": {},
   "outputs": [],
   "source": [
    "v = pd.read_csv(\"HARs_Walsh_2021.csv\")\n",
    "v = v[[\"chr\", \"start\", \"stop\", \"HAR_ID\"]]\n",
    "v.columns = [0, 1, 2, 3]\n",
    "\n",
    "out = []\n",
    "for index, row in v.iterrows():\n",
    "    out.append([row[0], row[1] - 2500, row[1]])\n",
    "    out.append([row[0], row[2], row[2] + 2500])\n",
    "df = pd.DataFrame(out)\n",
    "df.to_csv(\"HARs_5kbWindow_NoGap.bed\", sep = \"\\t\", header = None, index = False)"
   ]
  },
  {
   "cell_type": "code",
   "execution_count": 14,
   "id": "a39f3391",
   "metadata": {},
   "outputs": [],
   "source": [
    "v = pd.read_csv(\"HARs_Walsh_2021.csv\")\n",
    "v = v[[\"chr\", \"start\", \"stop\", \"HAR_ID\"]]\n",
    "v.columns = [0, 1, 2, 3]\n",
    "\n",
    "out = []\n",
    "for index, row in v.iterrows():\n",
    "    out.append([row[0], row[1] - 5000, row[1] - 2500])\n",
    "    out.append([row[0], row[2] + 2500, row[2] + 5000])\n",
    "df = pd.DataFrame(out)\n",
    "df.to_csv(\"HARs_5kbWindow_5kbGap.bed\", sep = \"\\t\", header = None, index = False)"
   ]
  },
  {
   "cell_type": "code",
   "execution_count": null,
   "id": "7c97c0ff",
   "metadata": {},
   "outputs": [],
   "source": []
  }
 ],
 "metadata": {
  "kernelspec": {
   "display_name": "Python 3 (ipykernel)",
   "language": "python",
   "name": "python3"
  },
  "language_info": {
   "codemirror_mode": {
    "name": "ipython",
    "version": 3
   },
   "file_extension": ".py",
   "mimetype": "text/x-python",
   "name": "python",
   "nbconvert_exporter": "python",
   "pygments_lexer": "ipython3",
   "version": "3.11.4"
  }
 },
 "nbformat": 4,
 "nbformat_minor": 5
}
