{
 "cells": [
  {
   "cell_type": "code",
   "execution_count": null,
   "id": "e837531a",
   "metadata": {},
   "outputs": [],
   "source": [
    "from PosSelect_Functions_Old import *\n",
    "import seaborn as sns\n",
    "import matplotlib.pyplot as plt\n",
    "from scipy.stats import gaussian_kde\n",
    "import pandas as pd\n",
    "import numpy as np\n",
    "import copy\n",
    "import seaborn as sns\n",
    "from scipy.stats import mannwhitneyu as mwu\n",
    "from scipy.stats import ttest_ind\n",
    "from scipy.stats import ttest_rel\n",
    "from statsmodels.stats.multitest import fdrcorrection\n",
    "from scipy.stats import wilcoxon\n",
    "from scipy.optimize import curve_fit\n",
    "from scipy.stats import fisher_exact\n",
    "\n",
    "hfont = {'fontname':'Arial'}\n",
    "plt.rcParams[\"font.family\"] = \"Arial\"\n",
    "\n",
    "#Code borrowed heavily from here: https://stackoverflow.com/questions/62375034/find-non-overlapping-area-between-two-kde-plots\n",
    "plt.rcParams.update(\n",
    "    {\"text.usetex\": False}\n",
    ")\n",
    "\n",
    "#Define a logarithmic function to fit to the data\n",
    "def plot_stuff(df, title, xlabel, ylabel):\n",
    "    def func(x, a, c, d):\n",
    "        return a + d*np.log(x + c)\n",
    "\n",
    "    #Fit said function\n",
    "    popt, pcov = curve_fit(func, xdata=df[\"AF bin\"], ydata=df[\"Alpha\"], maxfev = 100000)\n",
    "    sns.scatterplot(x=df[\"AF bin\"], y=df[\"Alpha\"])\n",
    "    xx = np.linspace(0.1, 1, 100)\n",
    "    yy = func(xx, *popt)\n",
    "    plt.title(title, size = 18)\n",
    "    plt.xlabel(xlabel, size = 15)\n",
    "    plt.ylabel(ylabel, size = 15)\n",
    "    plt.plot(xx, yy)\n",
    "\n",
    "gobp = pd.read_csv(\"../DPSC_CNCC/GOBP_AccelEvol_Input.txt\", sep= \"\\t\")\n",
    "d_BP = {}\n",
    "\n",
    "for index, row in gobp.iterrows():\n",
    "    if \"yloid\" in row[\"Term\"]:\n",
    "        print(row[\"Term\"])\n",
    "    d_BP[row[\"Term\"]] = row[\"Genes\"].split(\";\")\n"
   ]
  },
  {
   "cell_type": "code",
   "execution_count": null,
   "id": "ab956bdf",
   "metadata": {},
   "outputs": [],
   "source": [
    "#Compute alpha overall\n",
    "v, yvalls = read_missense(path = \"./\", maf_cut = 0.1)\n",
    "yvalls = unfold_missense(yvalls)\n",
    "\n",
    "yvals2 = [np.float64(j) for j in list(yvalls[\"PhyloP447\"])]\n",
    "yvals2.sort()\n",
    "\n",
    "cuttt = 0.6\n",
    "cutoff = yvals2[int(floor((len(yvals2)*cuttt)))]\n",
    "\n",
    "vvv = prepare_alpha(v, yvalls)\n",
    "alpha = compute_alpha_cutoff(vvv, plot = True, cutoff = cutoff, window = [-5, 12])"
   ]
  },
  {
   "cell_type": "code",
   "execution_count": null,
   "id": "c3fb89d2",
   "metadata": {},
   "outputs": [],
   "source": [
    "#Asymptotic for viral proteins\n",
    "v, yvalls = read_missense(path = \"./\", maf_cut = 0.1)\n",
    "yvalls = unfold_missense(yvalls)\n",
    "\n",
    "#Read in the list of VIPs\n",
    "vip = pd.read_csv(\"GeneSets/VIP.csv\")\n",
    "\n",
    "v_vip = v[v[\"Gene\"].isin(vip[\"HGNC symbol\"])]\n",
    "yvalls_vip = yvalls[yvalls[\"Gene\"].isin(vip[\"HGNC symbol\"])]\n",
    "v_nvip = v[~v[\"Gene\"].isin(vip[\"HGNC symbol\"])]\n",
    "yvalls_nvip = yvalls[~yvalls[\"Gene\"].isin(vip[\"HGNC symbol\"])]\n",
    "\n",
    "alpha, to_plot = asymptotic_unfold_cutoff(v_vip, yvalls_vip, dn_cut = 0.05, start = 0.1, cuttt = 0.6, to_plot_curve = False)\n",
    "print(alpha)\n",
    "plot_stuff(to_plot, title = \"Stronger evidence for positive\\nselection on viral-interacting proteins\", ylabel = \"$\\\\alpha_{Cons}$\", xlabel = \"Derived allele frequency bin\")"
   ]
  },
  {
   "cell_type": "code",
   "execution_count": null,
   "id": "fec65bea",
   "metadata": {},
   "outputs": [],
   "source": [
    "#Read in data\n",
    "v_mis, vv_mis = read_missense(path = \"./\", maf_cut = 0.1)\n",
    "vv_mis = unfold_missense(vv_mis)\n",
    "\n"
   ]
  },
  {
   "cell_type": "code",
   "execution_count": null,
   "id": "ae470015",
   "metadata": {},
   "outputs": [],
   "source": [
    "#Restrict to VIPs\n",
    "vip = pd.read_csv(\"GeneSets/VIP.csv\")\n",
    "\n",
    "v_mis2 = v_mis[v_mis[\"Gene\"].isin(vip[\"HGNC symbol\"])]\n",
    "vv_mis2 = vv_mis[vv_mis[\"Gene\"].isin(vip[\"HGNC symbol\"])]\n",
    "\n",
    "\n",
    "v_mis2[v_mis2[\"PhyloP447\"] < -2].sort_values(\"PhyloP447\").head(50)"
   ]
  },
  {
   "cell_type": "code",
   "execution_count": null,
   "id": "3f22ca3c",
   "metadata": {},
   "outputs": [],
   "source": [
    "#Test for enrichment in negative PhyloP genes\n",
    "neg = v_mis2[v_mis2[\"PhyloP447\"] <= -3].shape[0]\n",
    "pos = v_mis2[v_mis2[\"PhyloP447\"] >= 0].shape[0]\n",
    "out = []\n",
    "c = 0\n",
    "for key in d_BP.keys():\n",
    "    c += 1\n",
    "    genes = d_BP[key]\n",
    "    if len(genes) >= 15:\n",
    "        vmb = v_mis2[v_mis2[\"Gene\"].isin(genes)]\n",
    "        neg_in = vmb[vmb[\"PhyloP447\"] <= -3].shape[0]\n",
    "        pos_in = vmb[vmb[\"PhyloP447\"] >= 0].shape[0]\n",
    "        if neg_in + pos_in >= 10:\n",
    "            neg_out = neg - neg_in\n",
    "            pos_out = pos - pos_in\n",
    "\n",
    "            table = [[neg_in, neg_out], [pos_in, pos_out]]\n",
    "            out.append([key, fisher_exact(table)[0], fisher_exact(table)[1], neg_in, neg_out])\n",
    "    if c % 1000 == 0:\n",
    "        print(c)"
   ]
  },
  {
   "cell_type": "code",
   "execution_count": null,
   "id": "f4d09e33",
   "metadata": {},
   "outputs": [],
   "source": [
    "df = pd.DataFrame(out)\n",
    "df[\"FDR\"] = fdrcorrection(df[2])[1]\n",
    "df = df.sort_values(\"FDR\")\n",
    "df.columns = [\"Gene set\", \"Odds ratio\", \"p-value\", \"X\", \"Y\", \"FDR\"]\n",
    "df.head(50)"
   ]
  },
  {
   "cell_type": "code",
   "execution_count": null,
   "id": "bae05538",
   "metadata": {},
   "outputs": [],
   "source": [
    "#Make volcano plot\n",
    "dff = df.copy()\n",
    "dff[\"-Log$_{10}$(FDR)\"] = -np.log10(dff[\"FDR\"])\n",
    "\n",
    "k = []\n",
    "for index, row in dff.iterrows():\n",
    "    if row[\"FDR\"] < 0.05:\n",
    "        k.append(\"FDR < 0.05\")\n",
    "    else:\n",
    "        k.append(\"Not significant\")\n",
    "dff['Significance'] = k\n",
    "fig, ax = plt.subplots(figsize=(10,6))\n",
    "sns.scatterplot(data = dff, x = \"Odds ratio\", y = \"-Log$_{10}$(FDR)\", hue = \"Significance\", palette = {\"FDR < 0.05\":\"red\", \"Not significant\":\"grey\"})\n",
    "plt.title(\"Biological process enrichments for negative PhyloP sites\", size = 18)\n",
    "plt.ylabel(\"-Log$_{10}$(FDR)\", size = 18)\n",
    "plt.xlabel(\"Odds ratio\", size = 18)\n",
    "#plt.xticks(size = 11)\n",
    "#plt.yticks(size = 11)\n",
    "plt.legend(fontsize = 12)\n"
   ]
  },
  {
   "cell_type": "code",
   "execution_count": null,
   "id": "9cded940",
   "metadata": {},
   "outputs": [],
   "source": [
    "vs, vvs = read_syn(maf_cut = 0.1)\n",
    "vvs = unfold_syn(vvs)\n",
    "vvs2 = vvs[(vvs[\"UnfoldedMAF\"] > 0.5) & (vvs[\"UnfoldedMAF\"] < 0.9)]"
   ]
  },
  {
   "cell_type": "code",
   "execution_count": null,
   "id": "b8783368",
   "metadata": {},
   "outputs": [],
   "source": [
    "vk = v_mis2[v_mis2[\"Gene\"].isin(np.intersect1d(d_BP[\"Phagocytosis (GO:0006909)\"], vip[\"HGNC symbol\"]))]\n",
    "vvk = vv_mis3[vv_mis3[\"Gene\"].isin(np.intersect1d(d_BP[\"Phagocytosis (GO:0006909)\"], vip[\"HGNC symbol\"]))]\n",
    "\n",
    "vsk = vvs[vvs[\"Gene\"].isin(np.intersect1d(d_BP[\"Phagocytosis (GO:0006909)\"], vip[\"HGNC symbol\"]))]\n",
    "vvsk = vvs2[vvs2[\"Gene\"].isin(np.intersect1d(d_BP[\"Phagocytosis (GO:0006909)\"], vip[\"HGNC symbol\"]))]\n",
    "\n",
    "vvk = vvk[(vvk[\"UnfoldedMAF\"] > 0.5) & (vvk[\"UnfoldedMAF\"] < 0.9)]\n",
    "vvsk = vvsk[(vvsk[\"UnfoldedMAF\"] > 0.5) & (vvsk[\"UnfoldedMAF\"] < 0.9)]\n",
    "\n",
    "fisher_exact([[vk.shape[0], vvk.shape[0]], [vsk.shape[0], vvsk.shape[0]]], alternative = \"greater\")"
   ]
  },
  {
   "cell_type": "code",
   "execution_count": null,
   "id": "0243b7c9",
   "metadata": {},
   "outputs": [],
   "source": [
    "#Doing it for all genes genome-wide\n",
    "neg = v_mis[v_mis[\"PhyloP447\"] <= -3].shape[0]\n",
    "pos = v_mis[v_mis[\"PhyloP447\"] >= 0].shape[0]\n",
    "out = []\n",
    "c = 0\n",
    "for key in d_BP.keys():\n",
    "    c += 1\n",
    "    genes = d_BP[key]\n",
    "    if len(genes) >= 15:\n",
    "        vmb = v_mis[v_mis[\"Gene\"].isin(genes)]\n",
    "        neg_in = vmb[vmb[\"PhyloP447\"] <= -3].shape[0]\n",
    "        pos_in = vmb[vmb[\"PhyloP447\"] >= 0].shape[0]\n",
    "        if neg_in + pos_in >= 10:\n",
    "            neg_out = neg - neg_in\n",
    "            pos_out = pos - pos_in\n",
    "\n",
    "            table = [[neg_in, neg_out], [pos_in, pos_out]]\n",
    "            out.append([key, fisher_exact(table)[0], fisher_exact(table)[1], neg_in, neg_out])\n",
    "    if c % 1000 == 0:\n",
    "        print(c)"
   ]
  },
  {
   "cell_type": "code",
   "execution_count": null,
   "id": "7a19defb",
   "metadata": {},
   "outputs": [],
   "source": [
    "df = pd.DataFrame(out)\n",
    "df[\"FDR\"] = fdrcorrection(df[2])[1]\n",
    "df = df.sort_values(\"FDR\")\n",
    "df.columns = [\"Gene set\", \"Odds ratio\", \"p-value\", \"X\", \"Y\", \"FDR\"]\n",
    "df.head(50)"
   ]
  },
  {
   "cell_type": "code",
   "execution_count": null,
   "id": "3018d9a9",
   "metadata": {},
   "outputs": [],
   "source": [
    "dff = df.copy()\n",
    "dff[\"-Log$_{10}$(FDR)\"] = -np.log10(dff[\"FDR\"])\n",
    "\n",
    "k = []\n",
    "for index, row in dff.iterrows():\n",
    "    if row[\"FDR\"] < 0.05:\n",
    "        k.append(\"FDR < 0.05\")\n",
    "    else:\n",
    "        k.append(\"Not significant\")\n",
    "dff['Significance'] = k\n",
    "fig, ax = plt.subplots(figsize=(10,6))\n",
    "sns.scatterplot(data = dff, x = \"Odds ratio\", y = \"-Log$_{10}$(FDR)\", hue = \"Significance\", palette = {\"FDR < 0.05\":\"red\", \"Not significant\":\"grey\"})\n",
    "plt.title(\"Biological process enrichments for negative PhyloP sites, all genes\", size = 18)\n",
    "plt.ylabel(\"-Log$_{10}$(FDR)\", size = 18)\n",
    "plt.xlabel(\"Odds ratio\", size = 18)\n",
    "#plt.xticks(size = 11)\n",
    "#plt.yticks(size = 11)\n",
    "plt.legend(fontsize = 12)\n"
   ]
  },
  {
   "cell_type": "code",
   "execution_count": null,
   "id": "db961f78",
   "metadata": {},
   "outputs": [],
   "source": [
    "vv_mis3 = vv_mis[(vv_mis[\"UnfoldedMAF\"] > 0.5) & (vv_mis2[\"UnfoldedMAF\"] < 0.9)]\n",
    "vvs2 = vvs[(vvs[\"UnfoldedMAF\"] > 0.5) & (vvs[\"UnfoldedMAF\"] < 0.9)]\n",
    "\n",
    "vk = v_mis2[v_mis2[\"Gene\"].isin(genes)].shape[0]\n",
    "vvk = vv_mis3[vv_mis3[\"Gene\"].isin(genes)].shape[0]\n",
    "\n",
    "vsk = vvs[vvs[\"Gene\"].isin(genes)].shape[0]\n",
    "vvsk = vvs2[vvs2[\"Gene\"].isin(genes)].shape[0]\n",
    "\n",
    "fisher_exact([[vk, vvk], [vsk, vvsk]], alternative = \"greater\")"
   ]
  },
  {
   "cell_type": "code",
   "execution_count": null,
   "id": "b02bc0b1",
   "metadata": {},
   "outputs": [],
   "source": [
    "#Plotting VIP distributions\n",
    "vip = pd.read_csv(\"GeneSets/VIP.csv\")\n",
    "\n",
    "v_mis2 = v_mis[v_mis[\"Gene\"].isin(vip[\"HGNC symbol\"])]\n",
    "vv_mis2 = vv_mis[vv_mis[\"Gene\"].isin(vip[\"HGNC symbol\"])]\n",
    "\n",
    "vv_mis3 = vv_mis2[(vv_mis2[\"UnfoldedMAF\"] > 0.5) & (vv_mis2[\"UnfoldedMAF\"] < 0.9)]\n",
    "\n",
    "#v_mis2 = v_mis2[v_mis2[\"PhyloP447\"] > -2]\n",
    "#vv_mis3 = vv_mis3[vv_mis3[\"PhyloP447\"] > -2]\n",
    "\n",
    "v_mis2 = v_mis2[v_mis2[\"PhyloP447\"] < 2]\n",
    "vv_mis3 = vv_mis3[vv_mis3[\"PhyloP447\"] < 2]\n",
    "\n",
    "#v_mis2[\"PhyloP447\"] = -v_mis2[\"PhyloP447\"]\n",
    "#vv_mis3[\"PhyloP447\"] = -vv_mis3[\"PhyloP447\"]\n",
    "\n",
    "yvals2 = [np.float64(j) for j in list(vv_mis3[\"PhyloP447\"])]\n",
    "yvals2.sort()\n",
    "\n",
    "cuttt = 0.6\n",
    "cutoff = yvals2[int(floor((len(yvals2)*cuttt)))]\n",
    "\n",
    "vvv = prepare_alpha(v_mis2, vv_mis3)\n",
    "alpha = compute_alpha_cutoff(vvv, plot = True, cutoff = cutoff, window = [-10, 12])\n",
    "print(alpha)\n",
    "print((fisher_exact(alpha[-3], alternative = \"greater\")[1] + fisher_exact(alpha[-2], alternative = \"greater\")[1])/2)\n",
    "plt.title(\"Distribution of PhyloP scores > -2 for viral-interacting proteins\", size = 22)\n"
   ]
  },
  {
   "cell_type": "code",
   "execution_count": null,
   "id": "3bf0c8a4",
   "metadata": {},
   "outputs": [],
   "source": [
    "#Doing analysis for solvent accessibility\n",
    "v, yvalls = read_missense(path = \"./\", maf_cut = 0.1)\n",
    "yvalls = unfold_missense(yvalls)\n",
    "\n",
    "vx = pd.read_csv(\"ProteinLevel/ProtVar_HC_Dedup.sort.prot.bed\", sep = \"\\t\", header = None).set_index(3)\n",
    "v[\"PositionPlus\"] = v.index\n",
    "v.index = v[\"Position\"]\n",
    "vu = v.join(vx).dropna()\n",
    "v.index = v[\"PositionPlus\"]\n",
    "vu.index = vu[\"Position\"]\n",
    "\n",
    "vvx = pd.read_csv(\"ProteinLevel/ProtVar_Poly_Dedup.sort.prot.bed\", sep = \"\\t\", header = None).set_index(3)\n",
    "yvalls[\"PositionPlus\"] = yvalls.index\n",
    "yvalls.index = yvalls[\"Position\"]\n",
    "yvallsu = yvalls.join(vvx).dropna()\n",
    "yvalls.index = yvalls[\"PositionPlus\"]\n",
    "yvallsu.index = yvallsu[\"Position\"]\n",
    "\n",
    "v = v.drop_duplicates(\"Position\")\n",
    "yvalls = yvalls.drop_duplicates(\"Position\")\n",
    "\n",
    "vu = vu.drop_duplicates(\"Position\")\n",
    "yvallsu = yvallsu.drop_duplicates(\"Position\")"
   ]
  },
  {
   "cell_type": "code",
   "execution_count": null,
   "id": "b27fd865",
   "metadata": {},
   "outputs": [],
   "source": [
    "pse = pd.read_csv(\"ProteinLevel/20230315_Supplementary_AlphaFold_pPSE.csv\")\n",
    "pse"
   ]
  },
  {
   "cell_type": "code",
   "execution_count": null,
   "id": "250a72fd",
   "metadata": {},
   "outputs": [],
   "source": [
    "pse = pd.read_csv(\"ProteinLevel/20230315_Supplementary_AlphaFold_pPSE.csv\")\n",
    "pse.index = pse[\"protein_id\"].astype(str) + \":\" + pse[\"position\"].astype(str)\n",
    "vu.index = vu[0].astype(str) + \":\" + vu[1].astype(int).astype(str)\n",
    "yvallsu.index = yvallsu[0].astype(str) + \":\" + yvallsu[1].astype(int).astype(str)\n",
    "vu_pse = vu.join(pse).dropna()\n",
    "yvallsu_pse = yvallsu.join(pse).dropna()\n",
    "yvalls"
   ]
  },
  {
   "cell_type": "code",
   "execution_count": null,
   "id": "5c27c7f9",
   "metadata": {},
   "outputs": [],
   "source": [
    "yvallsu_pse_high = yvallsu_pse[yvallsu_pse[\"pPSE\"] >= 5]\n",
    "yvallsu_pse_low = yvallsu_pse[yvallsu_pse[\"pPSE\"] < 1]\n",
    "\n",
    "vu_pse_high = vu_pse[vu_pse[\"pPSE\"] >= 5]\n",
    "vu_pse_low = vu_pse[vu_pse[\"pPSE\"] < 1]"
   ]
  },
  {
   "cell_type": "code",
   "execution_count": null,
   "id": "31487779",
   "metadata": {},
   "outputs": [],
   "source": [
    "yvallsu_pse_low = yvallsu_pse_low[(yvallsu_pse_low[\"UnfoldedMAF\"] > 0.5) & (yvallsu_pse_low[\"UnfoldedMAF\"] < 0.9)]\n",
    "yvallsu_pse_high = yvallsu_pse_high[(yvallsu_pse_high[\"UnfoldedMAF\"] > 0.5) & (yvallsu_pse_high[\"UnfoldedMAF\"] < 0.9)]"
   ]
  },
  {
   "cell_type": "code",
   "execution_count": null,
   "id": "45d62709",
   "metadata": {},
   "outputs": [],
   "source": [
    "vvv = prepare_alpha(vu_pse_low, yvallsu_pse_low)\n",
    "cuttt = 0.6\n",
    "z = list(yvallsu_pse_high[\"PhyloP447\"])\n",
    "z.sort()\n",
    "cutoff = z[int(floor((len(z)*cuttt)))]\n",
    "\n",
    "compute_alpha_cutoff(vvv, cutoff = cutoff, plot = True, title = \"High sidechain accessibility\", window = [-5, 12])"
   ]
  },
  {
   "cell_type": "code",
   "execution_count": null,
   "id": "bd1cd678",
   "metadata": {},
   "outputs": [],
   "source": [
    "#Confidence interval or MAF 0.1-0.9\n",
    "b = []\n",
    "for i in range(1000):\n",
    "    if i % 100 == 0:\n",
    "        print(i)\n",
    "    vvv = prepare_alpha(vu_pse_high.sample(frac = 1, replace = True), yvallsu_pse_high.sample(frac = 1, replace = True))\n",
    "    cuttt = 0.6\n",
    "    z = list(yvallsu_pse_high[\"PhyloP447\"])\n",
    "    z.sort()\n",
    "    cutoff = z[int(floor((len(z)*cuttt)))]\n",
    "\n",
    "    b.append(compute_alpha_cutoff(vvv, cutoff = cutoff, plot = False, title = \"Low sidechain accessibility\", window = [-5, 12])[0])"
   ]
  },
  {
   "cell_type": "code",
   "execution_count": null,
   "id": "7b564aa3",
   "metadata": {},
   "outputs": [],
   "source": [
    "b.sort()\n",
    "print(b[25], b[975])"
   ]
  }
 ],
 "metadata": {
  "kernelspec": {
   "display_name": "Python [conda env:base] *",
   "language": "python",
   "name": "conda-base-py"
  },
  "language_info": {
   "codemirror_mode": {
    "name": "ipython",
    "version": 3
   },
   "file_extension": ".py",
   "mimetype": "text/x-python",
   "name": "python",
   "nbconvert_exporter": "python",
   "pygments_lexer": "ipython3",
   "version": "3.13.5"
  }
 },
 "nbformat": 4,
 "nbformat_minor": 5
}
