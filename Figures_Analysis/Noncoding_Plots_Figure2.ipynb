{
 "cells": [
  {
   "cell_type": "code",
   "execution_count": null,
   "id": "1a03e1c9",
   "metadata": {},
   "outputs": [],
   "source": [
    "from PosSelect_Functions_Old import *\n",
    "import seaborn as sns\n",
    "import matplotlib.pyplot as plt\n",
    "from scipy.stats import gaussian_kde\n",
    "import pandas as pd\n",
    "import numpy as np\n",
    "import copy\n",
    "import seaborn as sns\n",
    "from scipy.stats import mannwhitneyu as mwu\n",
    "from scipy.stats import ttest_ind\n",
    "from scipy.stats import ttest_rel\n",
    "from statsmodels.stats.multitest import fdrcorrection\n",
    "from scipy.stats import wilcoxon\n",
    "from scipy.optimize import curve_fit\n",
    "from scipy.stats import fisher_exact\n",
    "\n",
    "hfont = {'fontname':'Arial'}\n",
    "plt.rcParams[\"font.family\"] = \"Arial\"\n",
    "\n",
    "#Code borrowed heavily from here: https://stackoverflow.com/questions/62375034/find-non-overlapping-area-between-two-kde-plots\n",
    "plt.rcParams.update(\n",
    "    {\"text.usetex\": False}\n",
    ")\n",
    "\n",
    "#Define a logarithmic function to fit to the data\n",
    "def plot_stuff(df, title, xlabel, ylabel):\n",
    "    def func(x, a, c, d):\n",
    "        return a + d*np.log(x + c)\n",
    "\n",
    "    #Fit said function\n",
    "    popt, pcov = curve_fit(func, xdata=df[\"AF bin\"], ydata=df[\"Alpha\"], maxfev = 100000)\n",
    "    sns.scatterplot(x=df[\"AF bin\"], y=df[\"Alpha\"])\n",
    "    xx = np.linspace(0.1, 1, 100)\n",
    "    yy = func(xx, *popt)\n",
    "    plt.title(title, size = 18)\n",
    "    plt.xlabel(xlabel, size = 15)\n",
    "    plt.ylabel(ylabel, size = 15)\n",
    "    plt.plot(xx, yy)\n"
   ]
  },
  {
   "cell_type": "code",
   "execution_count": null,
   "id": "d15987db",
   "metadata": {},
   "outputs": [],
   "source": [
    "#Read in the data\n",
    "v, yvalls = read_noncoding_data_fast(path = \"./\", maf_cut = 0.1, spec_sup = 250)\n",
    "\n",
    "yvalls.index = yvalls[\"Position\"]\n",
    "yvalls = add_unfold(yvalls)\n"
   ]
  },
  {
   "cell_type": "code",
   "execution_count": null,
   "id": "d5dac64e",
   "metadata": {},
   "outputs": [],
   "source": [
    "#Plot the asymptotic version\n",
    "alpha, to_plot = asymptotic_unfold_cutoff(v, yvalls, start = 0.1, dn_cut = 0.05, to_plot_curve = False, cuttt = 0.95)\n",
    "plot_stuff(to_plot, title = \"Asymptotic for non-coding sites\", ylabel = \"$\\\\alpha_{Cons}$\", xlabel = \"Derived allele frequency bin\")\n",
    "print(alpha)"
   ]
  },
  {
   "cell_type": "code",
   "execution_count": null,
   "id": "dc7415d5",
   "metadata": {},
   "outputs": [],
   "source": [
    "#Plot the noncoding distributions\n",
    "vvv = prepare_alpha(v, yvalls)\n",
    "x2 = [np.float64(x) for x in list(v[\"PhyloP447\"])]\n",
    "yvals2 = [np.float64(j) for j in list(yvalls[\"PhyloP447\"])]\n",
    "yvals2.sort()\n",
    "cuttt = 0.95\n",
    "cutoff = yvals2[int(floor((len(yvals2)*cuttt)))]\n",
    "\n",
    "alpha = compute_alpha_cutoff(vvv, dn_cut = 0.01, plot = True, cutoff = cutoff, title = \"Excess of conserved polymorphic noncoding sites\")\n",
    "table1 = alpha[2]\n",
    "table2 = alpha[3]\n",
    "p = (fisher_exact(table1)[1] + fisher_exact(table2)[1])/2\n",
    "print(alpha, p)"
   ]
  },
  {
   "cell_type": "code",
   "execution_count": null,
   "id": "257fe52b",
   "metadata": {},
   "outputs": [],
   "source": [
    "#Stricter cutoff\n",
    "yvalls2 = yvalls[(yvalls[\"UnfoldedMAF\"] > 0.5) & (yvalls[\"UnfoldedMAF\"] < 0.9)]"
   ]
  },
  {
   "cell_type": "code",
   "execution_count": null,
   "id": "9e75f5e4",
   "metadata": {},
   "outputs": [],
   "source": [
    "#Option to remove pseudogenes and repeats\n",
    "v2, yvalls2 = remove_pseudos(v, yvalls2)\n",
    "v2, yvalls2 = remove_repeats(v2, yvalls2)"
   ]
  },
  {
   "cell_type": "code",
   "execution_count": null,
   "id": "a2988857",
   "metadata": {},
   "outputs": [],
   "source": [
    "#Plot\n",
    "vvv = prepare_alpha(v, yvalls2)\n",
    "x2 = [np.float64(x) for x in list(v[\"PhyloP447\"])]\n",
    "yvals2 = [np.float64(j) for j in list(yvalls[\"PhyloP447\"])]\n",
    "yvals2.sort()\n",
    "cuttt = 0.95\n",
    "cutoff = yvals2[int(floor((len(yvals2)*cuttt)))]\n",
    "\n",
    "alpha = compute_alpha_cutoff(vvv, dn_cut = 0.01, plot = True, cutoff = cutoff, title = \"Excess of conserved poly. non-coding subs. in humans\")\n",
    "table1 = alpha[2]\n",
    "table2 = alpha[3]\n",
    "p = (fisher_exact(table1)[1] + fisher_exact(table2)[1])/2\n",
    "print(alpha, p)"
   ]
  },
  {
   "cell_type": "code",
   "execution_count": null,
   "id": "e4724c10",
   "metadata": {},
   "outputs": [],
   "source": [
    "vvv = prepare_alpha(v, yvalls2)\n",
    "x2 = [np.float64(x) for x in list(v[\"PhyloP447\"])]\n",
    "yvals2 = [np.float64(j) for j in list(yvalls[\"PhyloP447\"])]\n",
    "yvals2.sort()\n",
    "cuttt = 0.95\n",
    "cutoff = yvals2[int(floor((len(yvals2)*cuttt)))]\n",
    "\n",
    "alpha = compute_alpha_cutoff(vvv, dn_cut = 0.01, plot = True, cutoff = cutoff, title = \"Excess of conserved polymorphic noncoding substitutions in humans\", window = [3, 12])\n",
    "table1 = alpha[2]\n",
    "table2 = alpha[3]\n",
    "p = (fisher_exact(table1)[1] + fisher_exact(table2)[1])/2\n",
    "print(alpha, p)\n",
    "\n",
    "plt.title(\"\")\n",
    "plt.xlabel(\"\")\n",
    "plt.ylabel(\"\")\n",
    "plt.xticks([], [])\n",
    "plt.yticks([], [])\n",
    "plt.legend([], [], frameon = False)"
   ]
  },
  {
   "cell_type": "code",
   "execution_count": null,
   "id": "ba8e0a1a",
   "metadata": {},
   "outputs": [],
   "source": [
    "#Exploring significant results from gene set\n",
    "v, yvalls = read_noncoding_data_fast(path = \"./\", maf_cut = 0.25, spec_sup = 250)\n",
    "\n",
    "yvalls.index = yvalls[\"Position\"]\n",
    "yvalls = add_unfold(yvalls)\n"
   ]
  },
  {
   "cell_type": "code",
   "execution_count": null,
   "id": "2cc94ef8",
   "metadata": {},
   "outputs": [],
   "source": [
    "vv = yvalls.copy()\n",
    "yvalls = 0\n"
   ]
  },
  {
   "cell_type": "code",
   "execution_count": null,
   "id": "769864e3",
   "metadata": {},
   "outputs": [],
   "source": [
    "#Read in data\n",
    "new_df = pd.DataFrame()\n",
    "\n",
    "df = pd.read_csv(\"ForPub_FisherExact_Unfold_NewHPO_NonCod_MafCut0.25-0.75_chrX_NonCod_SpecSup250.csv\")\n",
    "df = df[df[\"Proportion\"] == 0.9]\n",
    "for prop in np.unique(df[\"Proportion\"]):\n",
    "    df2 = df[df[\"Proportion\"] == prop]\n",
    "    df2[\"Fisher exact FDR\"] = fdrcorrection(df2[\"Fisher exact p-value; alt greater\"])[1]\n",
    "    df2[\"MWU FDR\"] = fdrcorrection(df2[\"MWU p-value; alt greater\"])[1]\n",
    "    new_df = pd.concat([new_df, df2])\n",
    "df = new_df.sort_values(\"Fisher exact FDR\")\n",
    "df_sig = df[df[\"Fisher exact FDR\"] < 0.5]\n",
    "df_sig2 = df[df[\"MWU FDR\"] < 0.05]\n",
    "df_sig2.sort_values(\"MWU FDR\")"
   ]
  },
  {
   "cell_type": "code",
   "execution_count": null,
   "id": "e55e4a59",
   "metadata": {},
   "outputs": [],
   "source": [
    "df = pd.read_csv(\"ForPub_HPO_FilterNewTEs_FisherExact_NonCod_PhyloP447_MAFCut0.25_SpecSup250_PhyloPCut-100_PhastConsCut-1.csv\")\n",
    "df = df[(df[\"Number Fixed Variants\"] >= 100) & (df[\"Number Polymorphic Variants\"] >= 50)]\n",
    "new_df = pd.DataFrame()\n",
    "df = df[df[\"Proportion\"] == 0.9]\n",
    "for prop in np.unique(df[\"Proportion\"]):\n",
    "    df2 = df[df[\"Proportion\"] == prop]\n",
    "    df2[\"Fisher exact FDR\"] = fdrcorrection(df2[\"Fisher exact p-value; alt greater\"])[1]\n",
    "    df2[\"MWU FDR\"] = fdrcorrection(df2[\"MWU p-value; alt greater\"])[1]\n",
    "    new_df = pd.concat([new_df, df2])\n",
    "df = new_df.sort_values(\"Fisher exact FDR\")\n",
    "df_sig = df[df[\"Fisher exact FDR\"] < 0.05]\n",
    "df_sig2 = df[df[\"MWU FDR\"] < 0.05]\n",
    "df_sig2.sort_values(\"MWU FDR\")"
   ]
  },
  {
   "cell_type": "code",
   "execution_count": null,
   "id": "e9c9d8b5",
   "metadata": {},
   "outputs": [],
   "source": [
    "#Make volcano plot\n",
    "dff = df.copy()\n",
    "dff[\"-Log$_{10}$(FDR)\"] = -np.log10(dff[\"MWU FDR\"])\n",
    "dff[\"Difference in median PhyloP\"] = dff[\"Median Fixed PhyloP\"] - dff[\"Median Polymorphic PhyloP\"]\n",
    "\n",
    "k = []\n",
    "for index, row in dff.iterrows():\n",
    "    if row[\"MWU FDR\"] < 0.05 and row[\"Fisher exact p-value; alt greater\"] < 0.05:\n",
    "        k.append(\"Significant\")\n",
    "    else:\n",
    "        k.append(\"Not significant\")\n",
    "dff['Significance'] = k\n",
    "fig, ax = plt.subplots(figsize=(10,6))\n",
    "sns.scatterplot(data = dff, x = \"Difference in median PhyloP\", y = \"-Log$_{10}$(FDR)\", hue = \"Significance\", palette = {\"Significant\":\"red\", \"Not significant\":\"grey\"})\n",
    "plt.title(\"Positive selection across human phenotypes on chrX\", size = 20)\n",
    "ax.set_ylabel(\"-Log$_{10}$(FDR)\", size = 18)\n",
    "ax.set_xlabel(\"Difference in median PhyloP\", size = 18)\n",
    "plt.xticks(size = 14)\n",
    "plt.yticks(size = 14)\n",
    "plt.legend(fontsize = 14)\n"
   ]
  },
  {
   "cell_type": "code",
   "execution_count": null,
   "id": "8f7495f8",
   "metadata": {},
   "outputs": [],
   "source": [
    "dff = df.copy()\n",
    "dff[\"-Log$_{10}$(FDR)\"] = -np.log10(dff[\"MWU FDR\"])\n",
    "dff[\"Difference in median PhyloP\"] = dff[\"Median Fixed PhyloP\"] - dff[\"Median Polymorphic PhyloP\"]\n",
    "\n",
    "k = []\n",
    "for index, row in dff.iterrows():\n",
    "    if row[\"MWU FDR\"] < 0.05 and row[\"Fisher exact p-value; alt greater\"] < 0.05:\n",
    "        k.append(\"Significant\")\n",
    "    else:\n",
    "        k.append(\"Not significant\")\n",
    "dff['Significance'] = k\n",
    "fig, ax = plt.subplots(figsize=(10,6))\n",
    "sns.scatterplot(data = dff, x = \"Difference in median PhyloP\", y = \"-Log$_{10}$(FDR)\", hue = \"Significance\", palette = {\"Significant\":\"red\", \"Not significant\":\"grey\"})\n",
    "plt.title(\"Positive selection across human phenotypes genome-wide\", size = 18)\n",
    "ax.set_ylabel(\"-Log$_{10}$(FDR)\", size = 18)\n",
    "ax.set_xlabel(\"Difference in median PhyloP\", size = 18)\n",
    "#plt.xticks(size = 11)\n",
    "#plt.yticks(size = 11)\n",
    "plt.legend(fontsize = 12)\n"
   ]
  },
  {
   "cell_type": "code",
   "execution_count": null,
   "id": "f16b2555",
   "metadata": {},
   "outputs": [],
   "source": [
    "dff = df.copy()\n",
    "dff[\"-Log$_{10}$(FDR)\"] = -np.log10(dff[\"MWU FDR\"])\n",
    "dff[\"Difference in median PhyloP\"] = dff[\"Median Fixed PhyloP\"] - dff[\"Median Polymorphic PhyloP\"]\n",
    "\n",
    "k = []\n",
    "for index, row in dff.iterrows():\n",
    "    if row[\"MWU FDR\"] < 0.05 and row[\"Fisher exact p-value; alt greater\"] < 0.05:\n",
    "        k.append(\"Significant\")\n",
    "    else:\n",
    "        k.append(\"Not significant\")\n",
    "dff['Significance'] = k\n",
    "fig, ax = plt.subplots(figsize = (8*0.75, 6*0.75))\n",
    "sns.scatterplot(data = dff, x = \"Difference in median PhyloP\", y = \"-Log$_{10}$(FDR)\", hue = \"Significance\", palette = {\"Significant\":\"red\", \"Not significant\":\"grey\"})\n",
    "plt.title(\"Positive selection on non-coding\\nsites across human phenotypes\", size = 18)\n",
    "plt.ylabel(\"-Log$_{10}$(FDR)\", size = 16)\n",
    "plt.xlabel(\"Difference in median PhyloP\", size = 16)\n",
    "plt.xticks(size = 11)\n",
    "plt.yticks(size = 11)\n",
    "plt.legend(fontsize = 12)\n",
    "\n"
   ]
  },
  {
   "cell_type": "code",
   "execution_count": null,
   "id": "d6c7d9b4",
   "metadata": {},
   "outputs": [],
   "source": [
    "#Looking at the ARX UCE sites\n",
    "z = pd.read_csv(\"ARX_UCE_Positions.txt\", sep = \"\\t\")\n",
    "jsd = []\n",
    "alfc = []\n",
    "for i in z.columns:\n",
    "    if i.startswith(\"abs\"):\n",
    "        alfc.append(i)\n",
    "    elif i.startswith(\"jsd\"):\n",
    "        jsd.append(i)\n",
    "z[\"Max abs logfc\"] = np.max(z[alfc], axis = 1)\n",
    "z2 = z.set_index(\"Position\")[alfc].T.sort_values(\"chrX:25001488\")\n",
    "z2"
   ]
  },
  {
   "cell_type": "code",
   "execution_count": null,
   "id": "95781bee",
   "metadata": {},
   "outputs": [],
   "source": [
    "hpo = pd.read_csv(\"../DPSC_CNCC/HPO_AccelEvol_Input.txt\", sep= \"\\t\")\n",
    "d_HPO = {}\n",
    "\n",
    "for index, row in hpo.iterrows():\n",
    "    d_HPO[row[\"Term\"]] = row[\"Genes\"].split(\";\")\n",
    "\n",
    "gobp = pd.read_csv(\"../DPSC_CNCC/GOBP_AccelEvol_Input.txt\", sep= \"\\t\")\n",
    "d_BP = {}\n",
    "\n",
    "for index, row in gobp.iterrows():\n",
    "    if \"ucus\" in row[\"Term\"]:\n",
    "        print(row[\"Term\"])\n",
    "    d_BP[row[\"Term\"]] = row[\"Genes\"].split(\";\")\n",
    "    \n",
    "kegg = pd.read_csv(\"../DPSC_CNCC/KEGG_AccelEvol_Input.txt\", sep= \"\\t\")\n",
    "d_KEGG = {}\n",
    "\n",
    "for index, row in kegg.iterrows():\n",
    "    if \"ucus\" in row[\"Term\"]:\n",
    "        print(row[\"Term\"])\n",
    "    d_KEGG[row[\"Term\"]] = row[\"Genes\"].split(\";\")"
   ]
  },
  {
   "cell_type": "code",
   "execution_count": null,
   "id": "6f173119",
   "metadata": {},
   "outputs": [],
   "source": [
    "#Checking to make sure no gene is a major outlier for variant number\n",
    "x = Counter(vk[\"NearestGene\"])\n",
    "y = Counter(vvk[\"NearestGene\"])\n",
    "\n",
    "xx = []\n",
    "yy = []\n",
    "for key in x.keys():\n",
    "    xx.append(x[key])\n",
    "    yy.append(y[key])\n",
    "    \n",
    "from scipy.stats import pearsonr\n",
    "\n",
    "pearsonr(xx, yy)\n",
    "sns.regplot(x = xx, y = yy)"
   ]
  },
  {
   "cell_type": "code",
   "execution_count": null,
   "id": "ce082d8f",
   "metadata": {},
   "outputs": [],
   "source": [
    "vv = yvalls.copy()\n",
    "vv.index = vv[\"NearestGene\"]"
   ]
  },
  {
   "cell_type": "code",
   "execution_count": null,
   "id": "df765980",
   "metadata": {},
   "outputs": [],
   "source": [
    "#Making plots\n",
    "key = \"Increased circulating total IgE level\"\n",
    "\n",
    "vk = v.loc[np.intersect1d(v.index, d_HPO[key])]\n",
    "vvk = vv.loc[np.intersect1d(vv.index, d_HPO[key])]\n",
    "\n",
    "vk = vk[vk[\"NearestGene\"].isin(np.intersect1d(vk[\"NearestGene\"], vvk[\"NearestGene\"]))]\n",
    "vvk = vvk[vvk[\"NearestGene\"].isin(np.intersect1d(vk[\"NearestGene\"], vvk[\"NearestGene\"]))]\n",
    "vvk = vvk[(vvk[\"MAFMaxAcrossAncestry\"] > 0.25) & (vvk[\"MAFMaxAcrossAncestry\"] < 0.75)]\n",
    "\n",
    "x2 = [np.float64(x) for x in list(vk[\"PhyloP447\"])]\n",
    "yvals2 = [np.float64(j) for j in list(vvk[\"PhyloP447\"])]\n",
    "yvals2.sort()\n",
    "if len(vk.index) >= 100 and len(vvk.index) >= 50:\n",
    "    #vvk = vvk[~vvk[\"NearestGene\"].isin([\"SHOX\"])]\n",
    "    vvv = prepare_alpha(vk, vvk, stat = \"PhyloP447\")\n",
    "    cuttt = 0.8\n",
    "    cutoff = yvals2[int(floor((len(yvals2)*cuttt)))]\n",
    "    alpha = compute_alpha_cutoff(vvv, dn_cut = 0.05, plot = True, cutoff = cutoff, title = \"Increased circulating total IgE level\", window = [-5, 12])\n",
    "\n",
    "    table1 = alpha[2]\n",
    "    table2 = alpha[3]\n",
    "    print(mwu(vk[\"PhyloP447\"], vvk['PhyloP447'], alternative = \"greater\"))\n",
    "    print((fisher_exact(table1, alternative = \"greater\")[1] + fisher_exact(table2, alternative = \"greater\")[1])/2)\n",
    "    print((fisher_exact(table1, alternative = \"greater\")))"
   ]
  },
  {
   "cell_type": "code",
   "execution_count": null,
   "id": "0ee98fe0",
   "metadata": {},
   "outputs": [],
   "source": [
    "#To prioritize ARX\n",
    "out = []\n",
    "for gene in np.unique(vvk.index):\n",
    "    vvk2 = vvk.loc[gene]\n",
    "    vk2 = vk.loc[gene]\n",
    "    if vk2.shape[0] >= 50 and vvk2.shape[0] >= 25:\n",
    "        out.append([gene, vk2.shape[0], vvk2.shape[0], np.median(vvk2[\"PhyloP447\"]), np.median(vk2[\"PhyloP447\"])])\n",
    "df = pd.DataFrame(out)\n",
    "df[\"Dif\"] = df[4] - df[3]\n",
    "df.sort_values(\"Dif\")"
   ]
  },
  {
   "cell_type": "code",
   "execution_count": null,
   "id": "185411b6",
   "metadata": {},
   "outputs": [],
   "source": [
    "#chrX:25383440 is in hs123 which has forebrain activity is a UCE too and is predicted to decrease accessibility in NPCs (lfc = 0.5)\n",
    "#hs123 is predominantly active in radial glia/NPCs so this is esepcially interesting\n",
    "#chrX:25383621, which is also in hs123, also is predicted to decrease accessibility \n",
    "#chrX:24990968 is in hs121 which has forebrain activity is a UCE too\n",
    "#chrX:25001488 is in hs145 which has forebrain activity but may not be a UCE"
   ]
  },
  {
   "cell_type": "code",
   "execution_count": null,
   "id": "c36163ea",
   "metadata": {},
   "outputs": [],
   "source": [
    "#Read in progenitor data\n",
    "m = pd.read_csv(\"Fixed_LiangSteinProgenitor.txt.gz\", sep = \"\\t\")\n",
    "m"
   ]
  },
  {
   "cell_type": "code",
   "execution_count": null,
   "id": "74a05d0f",
   "metadata": {
    "scrolled": true
   },
   "outputs": [],
   "source": [
    "m[m[\"Position\"].isin([\"chrX:25383440\", \"chrX:24990968\", \"chrX:25001488\"])]"
   ]
  },
  {
   "cell_type": "code",
   "execution_count": null,
   "id": "e5b8e587",
   "metadata": {},
   "outputs": [],
   "source": [
    "m[m[\"Position\"].isin(vk.sort_values(\"PhyloP447\").tail(150)[\"Position\"])].sort_values(\"abs logfc\").tail(50)"
   ]
  },
  {
   "cell_type": "code",
   "execution_count": null,
   "id": "6586f479",
   "metadata": {},
   "outputs": [],
   "source": [
    "v.index = v[\"NearestGene\"]\n",
    "vv.index = vv[\"NearestGene\"]\n",
    "vk = v.loc[\"ARX\"].copy()\n",
    "vvk = vv.loc[\"ARX\"].copy()\n",
    "vvk = vvk[(vvk[\"MAFMaxAcrossAncestry\"] > 0.25) & (vvk[\"MAFMaxAcrossAncestry\"] < 0.75)]\n",
    "\n",
    "x2 = [np.float64(x) for x in list(vk[\"PhyloP447\"])]\n",
    "yvals2 = [np.float64(j) for j in list(vvk[\"PhyloP447\"])]\n",
    "yvals2.sort()\n",
    "vvv = prepare_alpha(vk, vvk, stat = \"PhyloP447\")\n",
    "cuttt = 0.6\n",
    "cutoff = yvals2[int(floor((len(yvals2)*cuttt)))]\n",
    "alpha = compute_alpha_cutoff(vvv, dn_cut = 0.05, plot = True, cutoff = cutoff, title = \"$\\it{ARX}$\")\n",
    "\n",
    "table1 = alpha[2]\n",
    "table2 = alpha[3]\n",
    "print((fisher_exact(table1, alternative = \"greater\")[1] + fisher_exact(table2, alternative = \"greater\")[1])/2)"
   ]
  },
  {
   "cell_type": "code",
   "execution_count": null,
   "id": "236cbd00",
   "metadata": {},
   "outputs": [],
   "source": [
    "\n",
    "vk = v.loc[\"ARX\"].copy()\n",
    "vvk = vv.loc[\"ARX\"].copy()\n",
    "vvk = vvk[(vvk[\"MAFMaxAcrossAncestry\"] > 0.25) & (vvk[\"MAFMaxAcrossAncestry\"] < 0.75)]\n",
    "\n",
    "x2 = [np.float64(x) for x in list(vk[\"PhyloP447\"])]\n",
    "yvals2 = [np.float64(j) for j in list(vvk[\"PhyloP447\"])]\n",
    "yvals2.sort()\n",
    "vvv = prepare_alpha(vk, vvk, stat = \"PhyloP447\")\n",
    "cuttt = 0.6\n",
    "cutoff = yvals2[int(floor((len(yvals2)*cuttt)))]\n",
    "alpha = compute_alpha_cutoff(vvv, dn_cut = 0.05, plot = True, cutoff = cutoff, title = \"$\\it{ARX}$\", window = [3, 12])\n",
    "\n",
    "table1 = alpha[2]\n",
    "table2 = alpha[3]\n",
    "print((fisher_exact(table1, alternative = \"greater\")[1] + fisher_exact(table2, alternative = \"greater\")[1])/2)\n",
    "\n",
    "plt.title(\"\")\n",
    "plt.xlabel(\"\")\n",
    "plt.ylabel(\"\")\n",
    "plt.xticks([], [])\n",
    "plt.yticks([], [])\n",
    "plt.legend([], [], frameon = False)"
   ]
  }
 ],
 "metadata": {
  "kernelspec": {
   "display_name": "Python [conda env:base] *",
   "language": "python",
   "name": "conda-base-py"
  },
  "language_info": {
   "codemirror_mode": {
    "name": "ipython",
    "version": 3
   },
   "file_extension": ".py",
   "mimetype": "text/x-python",
   "name": "python",
   "nbconvert_exporter": "python",
   "pygments_lexer": "ipython3",
   "version": "3.13.5"
  }
 },
 "nbformat": 4,
 "nbformat_minor": 5
}
