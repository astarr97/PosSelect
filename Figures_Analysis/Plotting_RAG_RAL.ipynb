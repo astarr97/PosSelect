{
 "cells": [
  {
   "cell_type": "code",
   "execution_count": null,
   "id": "11e44af3",
   "metadata": {},
   "outputs": [],
   "source": [
    "from PosSelect_Functions_Old import *\n",
    "import seaborn as sns\n",
    "import matplotlib.pyplot as plt\n",
    "from scipy.stats import gaussian_kde\n",
    "import pandas as pd\n",
    "import numpy as np\n",
    "import copy\n",
    "import seaborn as sns\n",
    "from scipy.stats import mannwhitneyu as mwu\n",
    "from scipy.stats import ttest_ind\n",
    "from scipy.stats import ttest_rel\n",
    "from statsmodels.stats.multitest import fdrcorrection\n",
    "from scipy.stats import wilcoxon\n",
    "from scipy.optimize import curve_fit\n",
    "from scipy.stats import fisher_exact\n",
    "from scipy.stats import norm\n",
    "from collections import Counter\n",
    "from scipy.stats import binomtest\n",
    "import os\n",
    "import matplotlib\n",
    "hfont = {'fontname':'Arial'}\n",
    "plt.rcParams[\"font.family\"] = \"Arial\"\n",
    "\n",
    "#Code borrowed heavily from here: https://stackoverflow.com/questions/62375034/find-non-overlapping-area-between-two-kde-plots\n",
    "plt.rcParams.update(\n",
    "    {\"text.usetex\": False}\n",
    ")\n",
    "\n",
    "def parse_table(i):\n",
    "    return [int(x) for x in i.replace(\"[\", \"\").replace(\"]\", \"\").split(\",\")]\n",
    "\n",
    "d_abrev = {\"LiangSteinNeuron\":\"FC exc. neur.\", \"FetalChondrocytes\":\"F chond.\", \"SertoliMale\":\"FG sertoli\", \"preGC_IIaFemale\":\"FG preGC IIa\",\\\n",
    "          \"NeuralFemale\":\"FG neur.\", \"FetalGonadImmuneFemale\":\"FG immune\", \"VIP\":\"AC VIP inh. neur.\", \"LiangSteinProgenitor\":\"FC prog.\",\\\n",
    "          \"AdultHeartVentricularCardiomyocyte\":\"AH cardiomyo.\", \"AdultLoopOfHenle\":\"AK loop of henle\", \"FetalBrainNeurGlioblast_CB_VZ\":\"FCB glioblast\",\\\n",
    "         \"AdultProximalTubule\":\"AK prox. tub.\", \"FetalLeydigMale\":\"FG leydig\", \"SST\":\"AC SST inh neur.\", \"KosoyRoussosControlMicroglia\":\"AC microglia\",\\\n",
    "         \"FetalBrainFloorPlate\":\"FB fl. plate\", \"FetalArterialECs\":\"FH endoth.\", \"ASCT\":\"AC astro.\", \"FetalBrainCOP\":\"FB COP\",\\\n",
    "         \"AMY\":\"AA neur.\", \"PVALB\":\"AC PVALB inh neur.\", \"ITL23\":\"AC L2-3 IT neur.\", \"FetalBrainNeurCB_GNP_IPC_1\":\"FB inter. prog.\", \"FetalBrainNeurDAergic\":\"FB DA neur.\",\\\n",
    "          \"OGC\":\"AC Oligo.\", \"D1Pu\":\"AP D1 inh neur.\", \"FetalBrainNeurSerotonergic\":\"FB 5-HT neur.\", \"FetalBrainNeurDRG_2\":\"FS DRG neur.\",\\\n",
    "          \"FetalHeartPericytes\":\"FH peri.\", \"FetalHeartEndocardium\":\"FH endocard.\", \"FetalHeartCardiacFibroblasts\":\"FH fibro.\", \"FetalBrainNeurPurkinje_6\":\"FCB Purk. inh neur.\",\\\n",
    "          \"AdultHeartSmoothMuscle\":\"AH smooth musc.\", \"FetalBrainRoofPlate\":\"FB ro. plate\"}"
   ]
  },
  {
   "cell_type": "code",
   "execution_count": null,
   "id": "4376dcd0",
   "metadata": {},
   "outputs": [],
   "source": [
    "#Read in\n",
    "v = pd.read_csv(\"RHCTAG_Humreffed_Positions_Filt_DL_Data.txt\", sep = \"\\t\")\n",
    "#v = pd.read_csv(\"RHCTAL_Chpreffed_Positions_Filt_DL_Data.txt\", sep = \"\\t\")"
   ]
  },
  {
   "cell_type": "code",
   "execution_count": null,
   "id": "f3669a17",
   "metadata": {},
   "outputs": [],
   "source": [
    "#Restrict to group1 or group2\n",
    "group1 = [\"KosoyRoussosControlMicroglia\", \"LiangSteinNeuron\", \"AdultHeartVentricularCardiomyocyte\", \"AdultProximalTubule\", \"FetalArterialECs\", \"FetalChondrocytes\", \"SertoliMale\", \"ASCT\"]\n",
    "group2 = [\"FetalGonadImmuneFemale\", \"ITL23\", \"AdultHeartSmoothMuscle\", \"AdultLoopOfHenle\", \"FetalHeartPericytes\", \"FetalHeartCardiacFibroblasts\", \"preGC_IIaFemale\", \"FetalBrainCOP\"]\n",
    "\n",
    "keep = []\n",
    "for i in v.columns:\n",
    "    if \"logfc\" in i and \"abs\" not in i and i.replace(\"logfc \", \"\") in group2:\n",
    "        keep.append(i)\n",
    "v2 = v[[\"Position\"] + keep]\n",
    "v2 = -v2.set_index(\"Position\")\n",
    "\n",
    "keep = []\n",
    "for i in v.columns:\n",
    "    if \"allele1_pred_counts\" in i and \"abs\" not in i and i.replace(\"allele1_pred_counts \", \"\") in group2:\n",
    "        keep.append(i)\n",
    "v3 = v[[\"Position\"] + keep]\n",
    "v3 = v3.set_index(\"Position\")"
   ]
  },
  {
   "cell_type": "code",
   "execution_count": null,
   "id": "1d5d74f9",
   "metadata": {},
   "outputs": [],
   "source": [
    "#Read in the counts data\n",
    "dfn = pd.read_csv(\"CTAGL_Split/RHCTAG_Humreffed_Data_Filt.txt\", sep = \"\\t\")\n",
    "#dfn = pd.read_csv(\"CTAGL_Split/RHCTAL_Chpreffed_Data_Filt.txt\", sep = \"\\t\")\n",
    "out = []\n",
    "for index, row in dfn.iterrows():\n",
    "    for i in row[\"Positions\"].split(\";\"):\n",
    "        out.append([i, row[\"Position\"], row[\"Cell type\"]])\n",
    "v2 = v2.join(pd.DataFrame(out).set_index(0))\n",
    "v3 = v3.join(pd.DataFrame(out).set_index(0))\n",
    "v3"
   ]
  },
  {
   "cell_type": "code",
   "execution_count": null,
   "id": "ee648b81",
   "metadata": {},
   "outputs": [],
   "source": [
    "#Look at potential example genes\n",
    "x = pd.read_csv(\"20250618-public-4.0.4-FaA5o2-hg38-GOMolecularFunction-GO_0072509-gene.txt\", sep = \"\\t\", skiprows = 1, header = None)\n",
    "dfn[(dfn[\"NearestGene\"].isin(x[0])) & (dfn[\"Cell type\"].isin([\"LiangSteinNeuron\", \"ITL23\", \"LiangSteinNeuron;ITL23\", \"ITL23;LiangSteinNeuron\"]))].sort_values(\"Summed EE_Dif\")"
   ]
  },
  {
   "cell_type": "code",
   "execution_count": null,
   "id": "b8a1f7e0",
   "metadata": {},
   "outputs": [],
   "source": [
    "l23u[l23u[\"Gene\"].isin(genes)]"
   ]
  },
  {
   "cell_type": "code",
   "execution_count": null,
   "id": "0c1ac07a",
   "metadata": {},
   "outputs": [],
   "source": [
    "dfn[dfn[\"NearestGene\"] == \"CACNA2D3\"]"
   ]
  },
  {
   "cell_type": "code",
   "execution_count": null,
   "id": "eb577b89",
   "metadata": {},
   "outputs": [],
   "source": [
    "l23 = pd.read_csv(\"DESeq2_L2-3_IT_Human_Chimp.txt\", sep = \"\\t\")\n",
    "l23 = l23.dropna()\n",
    "l23 = l23[l23[\"padj\"] < 0.05]\n",
    "l23d = l23[l23[\"log2FoldChange\"] < 0]\n",
    "l23u = l23[l23[\"log2FoldChange\"] > 0]\n",
    "down = l23d[l23d[\"Gene\"].isin(genes)].shape[0]\n",
    "up = l23u[l23u[\"Gene\"].isin(genes)].shape[0]\n",
    "\n",
    "from scipy.stats import binomtest\n",
    "binomtest(down, up + down, p = l23d.shape[0]/(l23d.shape[0] + l23u.shape[0]))"
   ]
  },
  {
   "cell_type": "code",
   "execution_count": null,
   "id": "7c1f1941",
   "metadata": {},
   "outputs": [],
   "source": [
    "#Pick a particular RAG/RAL\n",
    "v2p = v2[v2[1] == \"chr3:54170706\"]\n",
    "v3p = v3[v3[1] == \"chr3:54170706\"]\n",
    "\n",
    "out = []\n",
    "for index, row in v2p.iterrows():\n",
    "    for i in row.index:\n",
    "        if i != 1 and i != 2:\n",
    "            out.append([index, d_abrev[i.replace(\"logfc \", \"\")], row[i]])"
   ]
  },
  {
   "cell_type": "code",
   "execution_count": null,
   "id": "9ab00e4c",
   "metadata": {},
   "outputs": [],
   "source": [
    "#Make plot\n",
    "v2plot = pd.DataFrame(out).sort_values(1)\n",
    "v2plot.columns = [\"Position\", \"Cell type\", \"Log fold-change\"]\n",
    "\n",
    "plot = pd.DataFrame()\n",
    "for i in np.unique(v2plot[\"Position\"]):\n",
    "    v2pp = v2plot[v2plot[\"Position\"] == i]\n",
    "    v2pp = v2pp.sort_values(\"Log fold-change\", ascending = False)\n",
    "    plot = pd.concat([plot, v2pp])"
   ]
  },
  {
   "cell_type": "code",
   "execution_count": null,
   "id": "ea6e15f4",
   "metadata": {},
   "outputs": [],
   "source": [
    "colors = [matplotlib.colors.to_hex(x) for x in sns.color_palette(\"colorblind\")]\n",
    "palette_g1 = {}\n",
    "for i in range(len(group1)):\n",
    "    palette_g1[d_abrev[group1[i]]] = colors[i]\n",
    "\n",
    "palette_g2 = {}\n",
    "for i in range(len(group2)):\n",
    "    palette_g2[d_abrev[group2[i]]] = colors[i]\n"
   ]
  },
  {
   "cell_type": "code",
   "execution_count": null,
   "id": "978e053a",
   "metadata": {},
   "outputs": [],
   "source": [
    "#Set focal cell type to make magenta\n",
    "focal_ct = d_abrev[\"LiangSteinNeuron\"]\n",
    "for i in group1:\n",
    "    palette_g1[d_abrev[i]] = \"grey\"\n",
    "palette_g1[focal_ct] = \"magenta\"\n",
    "\n",
    "focal_ct = d_abrev[\"ITL23\"]\n",
    "for i in group2:\n",
    "    palette_g2[d_abrev[i]] = \"grey\"\n",
    "palette_g2[focal_ct] = \"magenta\""
   ]
  },
  {
   "cell_type": "code",
   "execution_count": null,
   "id": "087d450e",
   "metadata": {},
   "outputs": [],
   "source": [
    "#Make plot\n",
    "fig, ax = plt.subplots(figsize = (6, 4))\n",
    "sns.barplot(data = v2plot, x = \"Position\", y = \"Log fold-change\", hue = \"Cell type\", palette = palette_g2)\n",
    "plt.legend([], [], frameon = False)\n",
    "#plt.title(\"HAR near NR2F2\")\n",
    "plt.xticks(size = 14, rotation = 0)\n",
    "plt.yticks(size = 14)\n",
    "\n",
    "plt.ylabel(\"Log$_{2}$ fold-change\", size = 18)\n",
    "plt.xlabel(\"Genomic position\", size = 18)\n",
    "plt.title(\"hRAG near $\\it{CACNA2D3}$\", size = 18)"
   ]
  },
  {
   "cell_type": "code",
   "execution_count": null,
   "id": "9af512a3",
   "metadata": {},
   "outputs": [],
   "source": [
    "fig, ax = plt.subplots(figsize = (6, 4))\n",
    "sns.barplot(data = v2plot, x = \"Position\", y = \"Log fold-change\", hue = \"Cell type\", palette = palette_g2)\n",
    "plt.legend([], [], frameon = False)\n",
    "#plt.title(\"HAR near NR2F2\")\n",
    "plt.xticks(size = 11, rotation = 0)\n",
    "plt.yticks(size = 11)\n",
    "\n",
    "plt.ylabel(\"Log$_{2}$ fold-change\", size = 14)\n",
    "plt.xlabel(\"Genomic position\", size = 14)\n",
    "plt.title(\"hRAG near $\\it{CACNA2D3}$\", size = 14)"
   ]
  },
  {
   "cell_type": "code",
   "execution_count": null,
   "id": "c2f73da1",
   "metadata": {},
   "outputs": [],
   "source": [
    "#Plot number in each cell type\n",
    "dfn = pd.read_csv(\"RHCTAG_Data_Filt.txt\", sep = \"\\t\")\n",
    "x = []\n",
    "for index, row in dfn.iterrows():\n",
    "    x = x + row['Cell type'].split(\";\")\n",
    "c = Counter(x)\n",
    "out = []\n",
    "for key in c.keys():\n",
    "    out.append([d_abrev[key], c[key], \"Human\", \"hRAG\"])\n",
    "    \n",
    "dfn = pd.read_csv(\"RHCTAL_Data_Filt.txt\", sep = \"\\t\")\n",
    "x = []\n",
    "for index, row in dfn.iterrows():\n",
    "    x = x + row['Cell type'].split(\";\")\n",
    "c = Counter(x)\n",
    "for key in c.keys():\n",
    "    out.append([d_abrev[key], c[key], \"Human\", \"hRAL\"])\n",
    "    \n",
    "dfn = pd.read_csv(\"RCCTAG_Data_Filt.txt\", sep = \"\\t\")\n",
    "x = []\n",
    "for index, row in dfn.iterrows():\n",
    "    x = x + row['Cell type'].split(\";\")\n",
    "c = Counter(x)\n",
    "for key in c.keys():\n",
    "    out.append([d_abrev[key], c[key], \"Chimp\", \"cRAG\"])\n",
    "    \n",
    "dfn = pd.read_csv(\"RCCTAL_Data_Filt.txt\", sep = \"\\t\")\n",
    "x = []\n",
    "for index, row in dfn.iterrows():\n",
    "    x = x + row['Cell type'].split(\";\")\n",
    "c = Counter(x)\n",
    "for key in c.keys():\n",
    "    out.append([d_abrev[key], c[key], \"Chimp\", \"cRAL\"])\n",
    "\n",
    "dfp = pd.DataFrame(out)\n",
    "dfp.columns = [\"Cell type\", \"Number elements identified\", \"Species\", \"Element type\"]\n",
    "\n"
   ]
  },
  {
   "cell_type": "code",
   "execution_count": null,
   "id": "67c3cb0c",
   "metadata": {},
   "outputs": [],
   "source": [
    "palette = {\"hRAG\":\"#E21814\", \"hRAL\":\"#5A0908\", \"cRAG\":\"#2142EA\", \"cRAL\":\"#11237C\"}\n",
    "pal_chp = {\"cRAG\":\"#2142EA\", \"cRAL\":\"#11237C\"}\n",
    "\n",
    "fig, ax = plt.subplots(figsize = (10, 4))\n",
    "dfp2 = dfp.sort_values(\"Cell type\").sort_values(\"Element type\", ascending = False)\n",
    "sns.set(font_scale = 1.5)\n",
    "sns.set_style(\"white\")\n",
    "sns.barplot(data = dfp2, x = \"Cell type\", y = \"Number elements identified\", hue = \"Element type\", palette = palette)\n",
    "plt.xticks(rotation = 90)\n",
    "plt.title(\"Reinforcing cell type-specific changes in CA across cell types\")"
   ]
  }
 ],
 "metadata": {
  "kernelspec": {
   "display_name": "Python [conda env:base] *",
   "language": "python",
   "name": "conda-base-py"
  },
  "language_info": {
   "codemirror_mode": {
    "name": "ipython",
    "version": 3
   },
   "file_extension": ".py",
   "mimetype": "text/x-python",
   "name": "python",
   "nbconvert_exporter": "python",
   "pygments_lexer": "ipython3",
   "version": "3.13.5"
  }
 },
 "nbformat": 4,
 "nbformat_minor": 5
}
