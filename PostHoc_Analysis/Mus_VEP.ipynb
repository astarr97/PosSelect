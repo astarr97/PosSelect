{
 "cells": [
  {
   "cell_type": "code",
   "execution_count": 1,
   "id": "636953f5",
   "metadata": {},
   "outputs": [
    {
     "name": "stderr",
     "output_type": "stream",
     "text": [
      "C:\\Users\\astar\\anaconda3\\Lib\\site-packages\\pandas\\core\\arrays\\masked.py:60: UserWarning: Pandas requires version '1.3.6' or newer of 'bottleneck' (version '1.3.5' currently installed).\n",
      "  from pandas.core import (\n"
     ]
    }
   ],
   "source": [
    "from PosSelect_Functions_Old import *\n",
    "import seaborn as sns\n",
    "import matplotlib.pyplot as plt\n",
    "from scipy.stats import gaussian_kde\n",
    "import pandas as pd\n",
    "import numpy as np\n",
    "import copy\n",
    "import seaborn as sns\n",
    "from scipy.stats import mannwhitneyu as mwu\n",
    "from scipy.stats import ttest_ind\n",
    "from scipy.stats import ttest_rel\n",
    "from statsmodels.stats.multitest import fdrcorrection\n",
    "from scipy.stats import wilcoxon\n",
    "from scipy.optimize import curve_fit\n",
    "from scipy.stats import fisher_exact\n",
    "\n",
    "hfont = {'fontname':'Arial'}\n",
    "plt.rcParams[\"font.family\"] = \"Arial\"\n",
    "\n",
    "#Code borrowed heavily from here: https://stackoverflow.com/questions/62375034/find-non-overlapping-area-between-two-kde-plots\n",
    "plt.rcParams.update(\n",
    "    {\"text.usetex\": False}\n",
    ")\n"
   ]
  },
  {
   "cell_type": "code",
   "execution_count": 8,
   "id": "d4f1f6f2",
   "metadata": {},
   "outputs": [
    {
     "data": {
      "text/plain": [
       "69253.0"
      ]
     },
     "execution_count": 8,
     "metadata": {},
     "output_type": "execute_result"
    }
   ],
   "source": [
    "138506/2"
   ]
  },
  {
   "cell_type": "code",
   "execution_count": 10,
   "id": "03f33dd9",
   "metadata": {},
   "outputs": [],
   "source": [
    "x = pd.read_csv(\"Mus_VEP/Poly_Mmd_VEP12_chr4_L277013_L138506.vcf\", sep = \"\\t\", header = None)\n",
    "x.head(69253).to_csv(\"Mus_VEP/Poly_Mmd_VEP12_chr4_L277013_L138506_F69253.vcf\", sep = \"\\t\", header = False, index = False)"
   ]
  },
  {
   "cell_type": "code",
   "execution_count": null,
   "id": "5a63a6d1",
   "metadata": {},
   "outputs": [],
   "source": [
    "v = pd.read_csv(\"Fixed_Mmd.Ready.mm39.bed\", sep = \"\\t\", header = None)\n",
    "v[\"Position\"] = v[0] + \":\" + v[2].astype(str)\n",
    "v.columns = [0, 1, 2, \"Domesticus\", \"Musculus\", \"Castaneus\", \"Spretus\", \"Caroli\", \"Pahari\", \"Derived\", \"PhyloP447\", \"NearestGene\", \"NearestDist\", \"SpecSup447\", \"Position\"]\n",
    "v = v.drop_duplicates(\"Position\")\n",
    "v = v[[\"Position\", \"Domesticus\", \"Musculus\", \"Castaneus\", \"Spretus\", \"Caroli\", \"Pahari\", \"Derived\", \"PhyloP447\", \"NearestGene\", \"NearestDist\", \"SpecSup447\"]].copy()\n",
    "\n",
    "v = v[v[\"PhyloP447\"] != \".\"]\n",
    "v = v[v[\"SpecSup447\"] != \".\"]\n",
    "v = v[v[\"NearestGene\"] != \".\"]\n",
    "\n",
    "v[\"PhyloP447\"] = v[\"PhyloP447\"].astype(float)\n",
    "v[\"SpecSup447\"] = v[\"SpecSup447\"].astype(float)\n",
    "\n",
    "v = v[v[\"PhyloP447\"] != \".\"]\n",
    "v = v[v[\"SpecSup447\"] != \".\"]\n",
    "v = v[v[\"NearestGene\"] != \".\"]\n",
    "\n",
    "v[\"PhyloP447\"] = v[\"PhyloP447\"].astype(float)\n",
    "v[\"SpecSup447\"] = v[\"SpecSup447\"].astype(float)\n",
    "\n",
    "vv = pd.read_csv(\"Poly_Mmd.Ready.mm39.bed\", sep = \"\\t\", header = None)\n",
    "\n",
    "vv[\"Position\"] = vv[0] + \":\" + vv[2].astype(str)\n",
    "vv.columns = [0, 1, 2, \"MajorAllele\", \"MinorAllele\", \"MAFMaxAcrossAncestry\", \"DerivedAllele\", \"UnfoldedMAF\", \"MusculusReference\", \"Spretus\", \"Caroli\", \"Pahari\", \"DerivedFromSubspecies\", \"PhyloP447\", \"NearestGene\", \"NearestDist\", \"SpecSup447\", \"Position\"]\n",
    "vv = vv.drop_duplicates(\"Position\")\n",
    "vv = vv[[\"Position\", \"MajorAllele\", \"MinorAllele\", \"MAFMaxAcrossAncestry\", \"DerivedAllele\", \"UnfoldedMAF\", \"MusculusReference\", \"Spretus\", \"Caroli\", \"Pahari\", \"DerivedFromSubspecies\", \"PhyloP447\", \"NearestGene\", \"NearestDist\", \"SpecSup447\"]].copy()\n",
    "\n",
    "vv = vv[vv[\"PhyloP447\"] != \".\"]\n",
    "vv = vv[vv[\"SpecSup447\"] != \".\"]\n",
    "vv = vv[vv[\"NearestGene\"] != \".\"]\n",
    "\n",
    "vv[\"PhyloP447\"] = vv[\"PhyloP447\"].astype(float)\n",
    "vv[\"SpecSup447\"] = vv[\"SpecSup447\"].astype(float)\n",
    "\n",
    "vv = vv[vv[\"PhyloP447\"] != \".\"]\n",
    "vv = vv[vv[\"SpecSup447\"] != \".\"]\n",
    "vv = vv[vv[\"NearestGene\"] != \".\"]\n",
    "\n",
    "vv[\"PhyloP447\"] = vv[\"PhyloP447\"].astype(float)\n",
    "vv[\"SpecSup447\"] = vv[\"SpecSup447\"].astype(float)\n",
    "\n",
    "v = v[v[\"Derived\"].isin([\"MusDer\"])]\n",
    "vv = vv[~vv[\"DerivedAllele\"].isin([\"Amb\"])]"
   ]
  },
  {
   "cell_type": "code",
   "execution_count": null,
   "id": "686f07a3",
   "metadata": {},
   "outputs": [],
   "source": [
    "v_vep = v[[\"Position\", \"Domesticus\", \"Spretus\"]]\n",
    "v_vep[\"Chrom\"] = [x.split(\":\")[0].replace(\"chr\", \"\") for x in v[\"Position\"]]\n",
    "v_vep[\"Pos\"] = [x.split(\":\")[1] for x in v[\"Position\"]]\n",
    "\n",
    "v_vep[1] = np.repeat(\".\", v_vep.shape[0])\n",
    "v_vep[2] = np.repeat(\".\", v_vep.shape[0])\n",
    "v_vep[3] = np.repeat(\".\", v_vep.shape[0])\n",
    "v_vep[4] = np.repeat(\".\", v_vep.shape[0])\n",
    "v_vep = v_vep[[\"Chrom\", \"Pos\", 1, \"Domesticus\", \"Spretus\", 2, 3, 4]]\n"
   ]
  },
  {
   "cell_type": "code",
   "execution_count": null,
   "id": "d364e69b",
   "metadata": {},
   "outputs": [],
   "source": [
    "v_vep_rest = v_vep[v_vep[\"Chrom\"].isin([\"X\", \"Y\"])]\n",
    "v_vep_rest_X = v_vep_rest[(~v_vep_rest[\"Pos\"].astype(int).isin(bleh[1])) & (v_vep_rest[\"Chrom\"].isin([\"X\"]))]\n",
    "v_vep_rest_Y = v_vep[v_vep[\"Chrom\"].isin([\"Y\"])]\n",
    "v_vep_rest_X.to_csv(\"Mus_VEP/Fixed_Mmd_VEP14.vcf\", header = False, index = False)"
   ]
  }
 ],
 "metadata": {
  "kernelspec": {
   "display_name": "Python 3 (ipykernel)",
   "language": "python",
   "name": "python3"
  },
  "language_info": {
   "codemirror_mode": {
    "name": "ipython",
    "version": 3
   },
   "file_extension": ".py",
   "mimetype": "text/x-python",
   "name": "python",
   "nbconvert_exporter": "python",
   "pygments_lexer": "ipython3",
   "version": "3.11.4"
  }
 },
 "nbformat": 4,
 "nbformat_minor": 5
}
