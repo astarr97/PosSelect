{
 "cells": [
  {
   "cell_type": "code",
   "execution_count": 1,
   "id": "83c68ff3",
   "metadata": {},
   "outputs": [
    {
     "name": "stderr",
     "output_type": "stream",
     "text": [
      "C:\\Users\\astar\\anaconda3\\Lib\\site-packages\\pandas\\core\\arrays\\masked.py:60: UserWarning: Pandas requires version '1.3.6' or newer of 'bottleneck' (version '1.3.5' currently installed).\n",
      "  from pandas.core import (\n"
     ]
    }
   ],
   "source": [
    "import pandas as pd\n",
    "\n",
    "fore = pd.read_csv(\"NFIB_AbsG0.25_Fixed_LSN_FilterNewTEs.bed\", header = None, sep = \"\\t\")\n",
    "fore.index = fore[0] + \":\" + fore[1].astype(str)\n",
    "\n",
    "back = pd.read_csv(\"NFIB_AbsG0.25_Fixed_Background_New_LSN_FilterNewTEs.bed\", header = None, sep = \"\\t\")\n",
    "back.index = back[0] + \":\" + back[1].astype(str)\n"
   ]
  },
  {
   "cell_type": "code",
   "execution_count": 41,
   "id": "8ef041d4",
   "metadata": {},
   "outputs": [],
   "source": [
    "fore = pd.read_csv(\"MEF2A_AbsG0.1_Fixed_ITL23_FilterNewTEs.bed\", header = None, sep = \"\\t\")\n",
    "fore.index = fore[0] + \":\" + fore[1].astype(str)\n",
    "\n",
    "back = pd.read_csv(\"MEF2A_AbsG0.1_Fixed_Background_New_ITL23_FilterNewTEs.bed\", header = None, sep = \"\\t\")\n",
    "back.index = back[0] + \":\" + back[1].astype(str)\n"
   ]
  },
  {
   "cell_type": "code",
   "execution_count": 42,
   "id": "160374d8",
   "metadata": {},
   "outputs": [],
   "source": [
    "fore_shuff = back.sample(n=fore.shape[0], replace = False)\n",
    "fore_shuff.to_csv(\"MEF2A_AbsG0.1_Fixed_ITL23_FilterNewTEs_Shuffled.bed\", sep = \"\\t\", header = False, index = False)"
   ]
  },
  {
   "cell_type": "code",
   "execution_count": 30,
   "id": "fc2b683b",
   "metadata": {},
   "outputs": [],
   "source": [
    "fore = pd.read_csv(\"MEF2A_AbsG0.25_Fixed_ITL23_FilterNewTEs.bed\", header = None, sep = \"\\t\")\n",
    "fore.index = fore[0] + \":\" + fore[1].astype(str)\n",
    "\n",
    "back = pd.read_csv(\"MEF2A_AbsG0.25_Fixed_Background_New_ITL23_FilterNewTEs.bed\", header = None, sep = \"\\t\")\n",
    "back.index = back[0] + \":\" + back[1].astype(str)\n",
    "\n",
    "\n",
    "v = pd.read_csv(\"TF_Data/MA0052.4_MEF2A_400_ITL23_Fixed.csv.gz\")\n",
    "v_fore = v[v[\"Position\"].isin(fore.index)]\n",
    "v_back = v[v[\"Position\"].isin(back.index)]\n",
    "v_fore.to_csv(\"MEF2A_AbsG0.25_Fixed_ITL23_FilterNewTEs_ForGOrilla.csv\", index = False)\n",
    "v_back.to_csv(\"MEF2A_AbsG0.25_Fixed_Background_New_ITL23_FilterNewTEs_ForGOrilla.csv\", index = False)"
   ]
  },
  {
   "cell_type": "code",
   "execution_count": 31,
   "id": "c3db887d",
   "metadata": {},
   "outputs": [],
   "source": [
    "gene_nums = pd.read_csv(\"PerGene_Unfold_Permute/ITL23/Finalizing_PerGene_FilterNewTEs_FisherExact_NonCod_DlITL23_abs_logfc_All_MAFCut0.25_SpecSup0_PhyloPCut-100_PhastConsCut-1.csv.gz\")\n",
    "gene_nums = gene_nums[gene_nums[\"Proportion\"] == 0.9]"
   ]
  },
  {
   "cell_type": "code",
   "execution_count": 32,
   "id": "bf7a7532",
   "metadata": {},
   "outputs": [],
   "source": [
    "v_fore = v[v[\"Position\"].isin(fore.index)]\n",
    "v_back = v[v[\"Position\"].isin(back.index)]\n",
    "\n",
    "v_fore = v_fore[v_fore[\"NearestGene\"].isin(gene_nums[\"Gene\"])]\n",
    "v_back = v_back[v_back[\"NearestGene\"].isin(gene_nums[\"Gene\"])]\n",
    "\n",
    "\n",
    "v_fore.to_csv(\"NFIB_AbsG0.25_Fixed_LSN_FilterNewTEs_ForGOrilla_GEQ100Vars.csv\", index = False)\n",
    "v_back.to_csv(\"NFIB_AbsG0.25_Fixed_Background_New_LSN_FilterNewTEs_ForGOrilla_GEQ100Vars.csv\", index = False)"
   ]
  },
  {
   "cell_type": "code",
   "execution_count": 33,
   "id": "80bc97b6",
   "metadata": {},
   "outputs": [],
   "source": [
    "gene_nums = pd.read_csv(\"PerGene_Unfold_Permute/ITL23/Finalizing_PerGene_FilterNewTEs_FisherExact_NonCod_DlITL23_abs_logfc_All_MAFCut0.25_SpecSup0_PhyloPCut-100_PhastConsCut-1.csv.gz\")\n",
    "gene_nums = gene_nums[gene_nums[\"Proportion\"] == 0.9]\n",
    "\n",
    "gene_nums = gene_nums[gene_nums[\"Number Fixed Variants\"] >= 300]\n",
    "\n",
    "v_fore = v[v[\"Position\"].isin(fore.index)]\n",
    "v_back = v[v[\"Position\"].isin(back.index)]\n",
    "\n",
    "v_fore = v_fore[v_fore[\"NearestGene\"].isin(gene_nums[\"Gene\"])]\n",
    "v_back = v_back[v_back[\"NearestGene\"].isin(gene_nums[\"Gene\"])]\n",
    "\n",
    "\n",
    "v_fore.to_csv(\"NFIB_AbsG0.25_Fixed_LSN_FilterNewTEs_ForGOrilla_GEQ300Vars.csv\", index = False)\n",
    "v_back.to_csv(\"NFIB_AbsG0.25_Fixed_Background_New_LSN_FilterNewTEs_ForGOrilla_GEQ300Vars.csv\", index = False)"
   ]
  },
  {
   "cell_type": "code",
   "execution_count": 34,
   "id": "97d395fb",
   "metadata": {},
   "outputs": [],
   "source": [
    "gene_nums = pd.read_csv(\"PerGene_Unfold_Permute/ITL23/Finalizing_PerGene_FilterNewTEs_FisherExact_NonCod_DlITL23_abs_logfc_All_MAFCut0.25_SpecSup0_PhyloPCut-100_PhastConsCut-1.csv.gz\")\n",
    "gene_nums = gene_nums[gene_nums[\"Proportion\"] == 0.9]\n",
    "\n",
    "gene_nums = gene_nums[gene_nums[\"Number Fixed Variants\"] >= 750]\n",
    "\n",
    "v_fore = v[v[\"Position\"].isin(fore.index)]\n",
    "v_back = v[v[\"Position\"].isin(back.index)]\n",
    "\n",
    "v_fore = v_fore[v_fore[\"NearestGene\"].isin(gene_nums[\"Gene\"])]\n",
    "v_back = v_back[v_back[\"NearestGene\"].isin(gene_nums[\"Gene\"])]\n",
    "\n",
    "\n",
    "v_fore.to_csv(\"NFIB_AbsG0.25_Fixed_LSN_FilterNewTEs_ForGOrilla_GEQ750Vars.csv\", index = False)\n",
    "v_back.to_csv(\"NFIB_AbsG0.25_Fixed_Background_New_LSN_FilterNewTEs_ForGOrilla_GEQ750Vars.csv\", index = False)"
   ]
  },
  {
   "cell_type": "code",
   "execution_count": 35,
   "id": "887714f8",
   "metadata": {},
   "outputs": [],
   "source": [
    "gene_nums = pd.read_csv(\"PerGene_Unfold_Permute/ITL23/Finalizing_PerGene_FilterNewTEs_FisherExact_NonCod_DlITL23_abs_logfc_All_MAFCut0.25_SpecSup0_PhyloPCut-100_PhastConsCut-1.csv.gz\")\n",
    "gene_nums = gene_nums[gene_nums[\"Proportion\"] == 0.9]\n",
    "\n",
    "gene_nums = gene_nums[gene_nums[\"Number Fixed Variants\"] >= 1200]\n",
    "\n",
    "v_fore = v[v[\"Position\"].isin(fore.index)]\n",
    "v_back = v[v[\"Position\"].isin(back.index)]\n",
    "\n",
    "v_fore = v_fore[v_fore[\"NearestGene\"].isin(gene_nums[\"Gene\"])]\n",
    "v_back = v_back[v_back[\"NearestGene\"].isin(gene_nums[\"Gene\"])]\n",
    "\n",
    "\n",
    "v_fore.to_csv(\"NFIB_AbsG0.25_Fixed_LSN_FilterNewTEs_ForGOrilla_GEQ1200Vars.csv\", index = False)\n",
    "v_back.to_csv(\"NFIB_AbsG0.25_Fixed_Background_New_LSN_FilterNewTEs_ForGOrilla_GEQ1200Vars.csv\", index = False)"
   ]
  },
  {
   "cell_type": "code",
   "execution_count": 36,
   "id": "0c93c6c1",
   "metadata": {},
   "outputs": [],
   "source": [
    "gene_nums = pd.read_csv(\"PerGene_Unfold_Permute/ITL23/Finalizing_PerGene_FilterNewTEs_FisherExact_NonCod_DlITL23_abs_logfc_All_MAFCut0.25_SpecSup0_PhyloPCut-100_PhastConsCut-1.csv.gz\")\n",
    "gene_nums = gene_nums[gene_nums[\"Proportion\"] == 0.9]\n",
    "\n",
    "gene_nums = gene_nums[gene_nums[\"Number Fixed Variants\"] >= 3000]\n",
    "\n",
    "v_fore = v[v[\"Position\"].isin(fore.index)]\n",
    "v_back = v[v[\"Position\"].isin(back.index)]\n",
    "\n",
    "v_fore = v_fore[v_fore[\"NearestGene\"].isin(gene_nums[\"Gene\"])]\n",
    "v_back = v_back[v_back[\"NearestGene\"].isin(gene_nums[\"Gene\"])]\n",
    "\n",
    "\n",
    "v_fore.to_csv(\"NFIB_AbsG0.25_Fixed_LSN_FilterNewTEs_ForGOrilla_GEQ3000Vars.csv\", index = False)\n",
    "v_back.to_csv(\"NFIB_AbsG0.25_Fixed_Background_New_LSN_FilterNewTEs_ForGOrilla_GEQ3000Vars.csv\", index = False)"
   ]
  },
  {
   "cell_type": "code",
   "execution_count": null,
   "id": "0158fac0",
   "metadata": {},
   "outputs": [],
   "source": []
  }
 ],
 "metadata": {
  "kernelspec": {
   "display_name": "Python 3 (ipykernel)",
   "language": "python",
   "name": "python3"
  },
  "language_info": {
   "codemirror_mode": {
    "name": "ipython",
    "version": 3
   },
   "file_extension": ".py",
   "mimetype": "text/x-python",
   "name": "python",
   "nbconvert_exporter": "python",
   "pygments_lexer": "ipython3",
   "version": "3.11.4"
  }
 },
 "nbformat": 4,
 "nbformat_minor": 5
}
